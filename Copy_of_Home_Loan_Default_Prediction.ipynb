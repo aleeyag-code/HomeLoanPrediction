{
  "cells": [
    {
      "cell_type": "markdown",
      "metadata": {
        "id": "2P57c2stDOVa",
        "nbgrader": {
          "grade": false,
          "locked": true,
          "solution": false
        }
      },
      "source": [
        "\n",
        "## Home Loan Default Prediction Project\n",
        "\n",
        "## Scenario:  \n",
        "\n",
        "EasyCredit Financial Services is a company that specializes in providing home loans to a wide demographic of customers. In recent years, EasyCredit has experienced a higher-than-average default rate on their home loans, which has affected its profitability and market reputation. To mitigate this issue, the company has decided to initiate a project to develop a deep learning model that can predict the probability of a loan applicant defaulting on a home loan. The company aims to integrate this predictive model into its loan approval process to make more informed decisions and reduce the risk of defaults.\n",
        "\n",
        "## Problem Statement:\n",
        "\n",
        "Construct a deep learning model to predict the likelihood of default for future loan applications using historical loan data.  \n",
        "\n",
        "## Objective:\n",
        "\n",
        "Develop a predictive model that determines whether loan applicants will be able to repay a loan, based on historical data.\n",
        "\n",
        "## Detailed Directions:\n",
        "\n",
        "\n",
        "\n",
        "1. Import the Required Libraries:\n",
        "\t- Essential libraries for data manipulation (NumPy, Pandas)\n",
        "\n",
        "\t- PyMySQL for database connectivity (if needed)\n",
        "\n",
        "\t- LabelEncoder for data preprocessing\n",
        "\n",
        "\t- Matplotlib for visualization\n",
        "\n",
        "\n",
        "2. Load the Data:\n",
        "\n",
        "\t- Load the data from the loan_data.csv file into a Pandas DataFrame.\n",
        "\n",
        "\t- Examine the first few rows to understand the dataset's structure.\n",
        "\n",
        "\n",
        "3. Check for Null Values:\n",
        "\n",
        "\t- Identify and handle any missing values in the dataset.\n",
        "\n",
        "\n",
        "4. Analyze Data Column Distribution:\n",
        "\n",
        "\t- Use descriptive statistics and visualizations to understand the data distribution.\n",
        "\n",
        "\n",
        "5. Balance the Data:\n",
        "\n",
        "\t- Address the imbalance in the dataset to ensure the model doesn't become biased.\n",
        "\n",
        "\n",
        "6. Encode the Full Dataset:\n",
        "\n",
        "\t- Convert categorical variables into a form that could be provided to ML algorithms to do a better job in prediction.\n",
        "\n",
        "\n",
        "7. Split and Train the Dataset:\n",
        "\n",
        "\t- Divide the data into training and testing sets.\n",
        "\n",
        "\t- Build and train the deep learning model on the training set.\n",
        "\n",
        "\n",
        "8. Perform Feature Scaling:\n",
        "\n",
        "\t- Scale the features to standardize the range of independent variables.\n",
        "\n",
        "\n",
        "9. Compile the Model:\n",
        "\n",
        "\t- Set up the deep learning model with the appropriate loss function and optimizer.\n",
        "\n",
        "\n",
        "10. Fit the Model:\n",
        "\n",
        "\t- Train the model with the training data and validate it using the validation set.\n",
        "\n",
        "\n",
        "11. Print the Model:\n",
        "\n",
        "\t- Output the details of the model architecture.\n",
        "\n",
        "\n",
        "12. Evaluate the Metrics:\n",
        "\n",
        "\t- Calculate and interpret performance metrics, such as the confusion matrix, sensitivity, and area under the ROC curve (AUC)."
      ]
    },
    {
      "cell_type": "markdown",
      "metadata": {
        "id": "dDnDQVvRDOVg",
        "nbgrader": {
          "grade": false,
          "locked": true,
          "solution": false
        }
      },
      "source": [
        "\n",
        "### Installation of PyMySQL and Sklearn-Pandas\n",
        "- Execute the command **!pip install pymysql** to install the PyMySQL package with Python's pip package manager.\n",
        "- Use the command **!pip install sklearn-pandas** to install the Sklearn-Pandas package with Python's pip package manager."
      ]
    },
    {
      "cell_type": "code",
      "execution_count": null,
      "metadata": {
        "colab": {
          "base_uri": "https://localhost:8080/"
        },
        "id": "_yoJ4i0gDOVj",
        "outputId": "c9f80ebf-1a79-4dce-8247-cb95fa9d7d95"
      },
      "outputs": [
        {
          "name": "stdout",
          "output_type": "stream",
          "text": [
            "Defaulting to user installation because normal site-packages is not writeable\n",
            "Requirement already satisfied: pymysql in /usr/local/lib/python3.10/site-packages (1.0.2)\n",
            "\n",
            "\u001b[1m[\u001b[0m\u001b[34;49mnotice\u001b[0m\u001b[1;39;49m]\u001b[0m\u001b[39;49m A new release of pip is available: \u001b[0m\u001b[31;49m23.1.2\u001b[0m\u001b[39;49m -> \u001b[0m\u001b[32;49m24.3.1\u001b[0m\n",
            "\u001b[1m[\u001b[0m\u001b[34;49mnotice\u001b[0m\u001b[1;39;49m]\u001b[0m\u001b[39;49m To update, run: \u001b[0m\u001b[32;49mpip install --upgrade pip\u001b[0m\n"
          ]
        }
      ],
      "source": [
        "!pip install pymysql"
      ]
    },
    {
      "cell_type": "code",
      "execution_count": null,
      "metadata": {
        "colab": {
          "base_uri": "https://localhost:8080/"
        },
        "id": "KgjZZzCGDOV2",
        "outputId": "9523b26b-ae3e-426f-9af8-1cf7099c3735"
      },
      "outputs": [
        {
          "name": "stdout",
          "output_type": "stream",
          "text": [
            "Defaulting to user installation because normal site-packages is not writeable\n",
            "Requirement already satisfied: sklearn-pandas in ./.local/lib/python3.10/site-packages (2.2.0)\n",
            "Requirement already satisfied: scikit-learn>=0.23.0 in /usr/local/lib/python3.10/site-packages (from sklearn-pandas) (1.2.2)\n",
            "Requirement already satisfied: scipy>=1.5.1 in /usr/local/lib/python3.10/site-packages (from sklearn-pandas) (1.9.3)\n",
            "Requirement already satisfied: pandas>=1.1.4 in /usr/local/lib/python3.10/site-packages (from sklearn-pandas) (1.4.4)\n",
            "Requirement already satisfied: numpy>=1.18.1 in /usr/local/lib/python3.10/site-packages (from sklearn-pandas) (1.23.5)\n",
            "Requirement already satisfied: python-dateutil>=2.8.1 in /usr/local/lib/python3.10/site-packages (from pandas>=1.1.4->sklearn-pandas) (2.8.2)\n",
            "Requirement already satisfied: pytz>=2020.1 in /usr/local/lib/python3.10/site-packages (from pandas>=1.1.4->sklearn-pandas) (2022.1)\n",
            "Requirement already satisfied: joblib>=1.1.1 in /usr/local/lib/python3.10/site-packages (from scikit-learn>=0.23.0->sklearn-pandas) (1.2.0)\n",
            "Requirement already satisfied: threadpoolctl>=2.0.0 in /usr/local/lib/python3.10/site-packages (from scikit-learn>=0.23.0->sklearn-pandas) (3.1.0)\n",
            "Requirement already satisfied: six>=1.5 in /usr/local/lib/python3.10/site-packages (from python-dateutil>=2.8.1->pandas>=1.1.4->sklearn-pandas) (1.16.0)\n",
            "\n",
            "\u001b[1m[\u001b[0m\u001b[34;49mnotice\u001b[0m\u001b[1;39;49m]\u001b[0m\u001b[39;49m A new release of pip is available: \u001b[0m\u001b[31;49m23.1.2\u001b[0m\u001b[39;49m -> \u001b[0m\u001b[32;49m24.3.1\u001b[0m\n",
            "\u001b[1m[\u001b[0m\u001b[34;49mnotice\u001b[0m\u001b[1;39;49m]\u001b[0m\u001b[39;49m To update, run: \u001b[0m\u001b[32;49mpip install --upgrade pip\u001b[0m\n"
          ]
        }
      ],
      "source": [
        "!pip install sklearn-pandas"
      ]
    },
    {
      "cell_type": "markdown",
      "metadata": {
        "id": "iz5RcO8ChCwf",
        "nbgrader": {
          "grade": false,
          "locked": true,
          "solution": false
        }
      },
      "source": [
        "### Step 1: Importing the Required Library\n",
        "- Import the essential libraries for data manipulation and analysis, such as NumPy and Pandas, and use PyMySQL for database connectivity, LabelEncoder for data preprocessing, and Matplotlib for visualization."
      ]
    },
    {
      "cell_type": "code",
      "execution_count": null,
      "metadata": {
        "id": "Bg2a35nADOWD"
      },
      "outputs": [],
      "source": [
        "import numpy as np\n",
        "import pandas as pd\n",
        "import pymysql\n",
        "from sklearn.preprocessing import LabelEncoder\n",
        "import matplotlib.pyplot as plt"
      ]
    },
    {
      "cell_type": "markdown",
      "metadata": {
        "id": "zn7DZ1ddDOWN",
        "nbgrader": {
          "grade": false,
          "locked": true,
          "solution": false
        }
      },
      "source": [
        "### Step 2: Loading the Data\n",
        "- Load a CSV file named **loan_data.csv** into a Pandas DataFrame named **app_train**.\n",
        "- Display the initial few rows of the **app_train** DataFrame."
      ]
    },
    {
      "cell_type": "code",
      "execution_count": null,
      "metadata": {
        "id": "ce-AVcsgDOWQ"
      },
      "outputs": [],
      "source": [
        "app_train = pd.read_csv('loan_data.csv')"
      ]
    },
    {
      "cell_type": "code",
      "execution_count": null,
      "metadata": {
        "colab": {
          "base_uri": "https://localhost:8080/",
          "height": 299
        },
        "id": "BxNAz8c2DOWa",
        "outputId": "69fe7483-a0c6-448d-9332-d2fdceea7cfb"
      },
      "outputs": [
        {
          "data": {
            "text/html": [
              "<div>\n",
              "<style scoped>\n",
              "    .dataframe tbody tr th:only-of-type {\n",
              "        vertical-align: middle;\n",
              "    }\n",
              "\n",
              "    .dataframe tbody tr th {\n",
              "        vertical-align: top;\n",
              "    }\n",
              "\n",
              "    .dataframe thead th {\n",
              "        text-align: right;\n",
              "    }\n",
              "</style>\n",
              "<table border=\"1\" class=\"dataframe\">\n",
              "  <thead>\n",
              "    <tr style=\"text-align: right;\">\n",
              "      <th></th>\n",
              "      <th>SK_ID_CURR</th>\n",
              "      <th>TARGET</th>\n",
              "      <th>NAME_CONTRACT_TYPE</th>\n",
              "      <th>CODE_GENDER</th>\n",
              "      <th>FLAG_OWN_CAR</th>\n",
              "      <th>FLAG_OWN_REALTY</th>\n",
              "      <th>CNT_CHILDREN</th>\n",
              "      <th>AMT_INCOME_TOTAL</th>\n",
              "      <th>AMT_CREDIT</th>\n",
              "      <th>AMT_ANNUITY</th>\n",
              "      <th>...</th>\n",
              "      <th>FLAG_DOCUMENT_18</th>\n",
              "      <th>FLAG_DOCUMENT_19</th>\n",
              "      <th>FLAG_DOCUMENT_20</th>\n",
              "      <th>FLAG_DOCUMENT_21</th>\n",
              "      <th>AMT_REQ_CREDIT_BUREAU_HOUR</th>\n",
              "      <th>AMT_REQ_CREDIT_BUREAU_DAY</th>\n",
              "      <th>AMT_REQ_CREDIT_BUREAU_WEEK</th>\n",
              "      <th>AMT_REQ_CREDIT_BUREAU_MON</th>\n",
              "      <th>AMT_REQ_CREDIT_BUREAU_QRT</th>\n",
              "      <th>AMT_REQ_CREDIT_BUREAU_YEAR</th>\n",
              "    </tr>\n",
              "  </thead>\n",
              "  <tbody>\n",
              "    <tr>\n",
              "      <th>0</th>\n",
              "      <td>100002</td>\n",
              "      <td>1</td>\n",
              "      <td>Cash loans</td>\n",
              "      <td>M</td>\n",
              "      <td>N</td>\n",
              "      <td>Y</td>\n",
              "      <td>0</td>\n",
              "      <td>202500.0</td>\n",
              "      <td>406597.5</td>\n",
              "      <td>24700.5</td>\n",
              "      <td>...</td>\n",
              "      <td>0</td>\n",
              "      <td>0</td>\n",
              "      <td>0</td>\n",
              "      <td>0</td>\n",
              "      <td>0.0</td>\n",
              "      <td>0.0</td>\n",
              "      <td>0.0</td>\n",
              "      <td>0.0</td>\n",
              "      <td>0.0</td>\n",
              "      <td>1.0</td>\n",
              "    </tr>\n",
              "    <tr>\n",
              "      <th>1</th>\n",
              "      <td>100003</td>\n",
              "      <td>0</td>\n",
              "      <td>Cash loans</td>\n",
              "      <td>F</td>\n",
              "      <td>N</td>\n",
              "      <td>N</td>\n",
              "      <td>0</td>\n",
              "      <td>270000.0</td>\n",
              "      <td>1293502.5</td>\n",
              "      <td>35698.5</td>\n",
              "      <td>...</td>\n",
              "      <td>0</td>\n",
              "      <td>0</td>\n",
              "      <td>0</td>\n",
              "      <td>0</td>\n",
              "      <td>0.0</td>\n",
              "      <td>0.0</td>\n",
              "      <td>0.0</td>\n",
              "      <td>0.0</td>\n",
              "      <td>0.0</td>\n",
              "      <td>0.0</td>\n",
              "    </tr>\n",
              "    <tr>\n",
              "      <th>2</th>\n",
              "      <td>100004</td>\n",
              "      <td>0</td>\n",
              "      <td>Revolving loans</td>\n",
              "      <td>M</td>\n",
              "      <td>Y</td>\n",
              "      <td>Y</td>\n",
              "      <td>0</td>\n",
              "      <td>67500.0</td>\n",
              "      <td>135000.0</td>\n",
              "      <td>6750.0</td>\n",
              "      <td>...</td>\n",
              "      <td>0</td>\n",
              "      <td>0</td>\n",
              "      <td>0</td>\n",
              "      <td>0</td>\n",
              "      <td>0.0</td>\n",
              "      <td>0.0</td>\n",
              "      <td>0.0</td>\n",
              "      <td>0.0</td>\n",
              "      <td>0.0</td>\n",
              "      <td>0.0</td>\n",
              "    </tr>\n",
              "    <tr>\n",
              "      <th>3</th>\n",
              "      <td>100006</td>\n",
              "      <td>0</td>\n",
              "      <td>Cash loans</td>\n",
              "      <td>F</td>\n",
              "      <td>N</td>\n",
              "      <td>Y</td>\n",
              "      <td>0</td>\n",
              "      <td>135000.0</td>\n",
              "      <td>312682.5</td>\n",
              "      <td>29686.5</td>\n",
              "      <td>...</td>\n",
              "      <td>0</td>\n",
              "      <td>0</td>\n",
              "      <td>0</td>\n",
              "      <td>0</td>\n",
              "      <td>NaN</td>\n",
              "      <td>NaN</td>\n",
              "      <td>NaN</td>\n",
              "      <td>NaN</td>\n",
              "      <td>NaN</td>\n",
              "      <td>NaN</td>\n",
              "    </tr>\n",
              "    <tr>\n",
              "      <th>4</th>\n",
              "      <td>100007</td>\n",
              "      <td>0</td>\n",
              "      <td>Cash loans</td>\n",
              "      <td>M</td>\n",
              "      <td>N</td>\n",
              "      <td>Y</td>\n",
              "      <td>0</td>\n",
              "      <td>121500.0</td>\n",
              "      <td>513000.0</td>\n",
              "      <td>21865.5</td>\n",
              "      <td>...</td>\n",
              "      <td>0</td>\n",
              "      <td>0</td>\n",
              "      <td>0</td>\n",
              "      <td>0</td>\n",
              "      <td>0.0</td>\n",
              "      <td>0.0</td>\n",
              "      <td>0.0</td>\n",
              "      <td>0.0</td>\n",
              "      <td>0.0</td>\n",
              "      <td>0.0</td>\n",
              "    </tr>\n",
              "  </tbody>\n",
              "</table>\n",
              "<p>5 rows × 122 columns</p>\n",
              "</div>"
            ],
            "text/plain": [
              "   SK_ID_CURR  TARGET NAME_CONTRACT_TYPE CODE_GENDER FLAG_OWN_CAR  \\\n",
              "0      100002       1         Cash loans           M            N   \n",
              "1      100003       0         Cash loans           F            N   \n",
              "2      100004       0    Revolving loans           M            Y   \n",
              "3      100006       0         Cash loans           F            N   \n",
              "4      100007       0         Cash loans           M            N   \n",
              "\n",
              "  FLAG_OWN_REALTY  CNT_CHILDREN  AMT_INCOME_TOTAL  AMT_CREDIT  AMT_ANNUITY  \\\n",
              "0               Y             0          202500.0    406597.5      24700.5   \n",
              "1               N             0          270000.0   1293502.5      35698.5   \n",
              "2               Y             0           67500.0    135000.0       6750.0   \n",
              "3               Y             0          135000.0    312682.5      29686.5   \n",
              "4               Y             0          121500.0    513000.0      21865.5   \n",
              "\n",
              "   ...  FLAG_DOCUMENT_18 FLAG_DOCUMENT_19 FLAG_DOCUMENT_20 FLAG_DOCUMENT_21  \\\n",
              "0  ...                 0                0                0                0   \n",
              "1  ...                 0                0                0                0   \n",
              "2  ...                 0                0                0                0   \n",
              "3  ...                 0                0                0                0   \n",
              "4  ...                 0                0                0                0   \n",
              "\n",
              "  AMT_REQ_CREDIT_BUREAU_HOUR AMT_REQ_CREDIT_BUREAU_DAY  \\\n",
              "0                        0.0                       0.0   \n",
              "1                        0.0                       0.0   \n",
              "2                        0.0                       0.0   \n",
              "3                        NaN                       NaN   \n",
              "4                        0.0                       0.0   \n",
              "\n",
              "   AMT_REQ_CREDIT_BUREAU_WEEK  AMT_REQ_CREDIT_BUREAU_MON  \\\n",
              "0                         0.0                        0.0   \n",
              "1                         0.0                        0.0   \n",
              "2                         0.0                        0.0   \n",
              "3                         NaN                        NaN   \n",
              "4                         0.0                        0.0   \n",
              "\n",
              "   AMT_REQ_CREDIT_BUREAU_QRT  AMT_REQ_CREDIT_BUREAU_YEAR  \n",
              "0                        0.0                         1.0  \n",
              "1                        0.0                         0.0  \n",
              "2                        0.0                         0.0  \n",
              "3                        NaN                         NaN  \n",
              "4                        0.0                         0.0  \n",
              "\n",
              "[5 rows x 122 columns]"
            ]
          },
          "execution_count": 38,
          "metadata": {},
          "output_type": "execute_result"
        }
      ],
      "source": [
        "app_train.head()"
      ]
    },
    {
      "cell_type": "markdown",
      "metadata": {
        "id": "dL1PFrdrDOWk",
        "nbgrader": {
          "grade": false,
          "locked": true,
          "solution": false
        }
      },
      "source": [
        "### Step 3: Checking for Null Values\n",
        "- Determine if there are any null values in the **TARGET** column of the **app_train** DataFrame.\n",
        "- The command **app_train['TARGET'].value_counts()** gives the count of each unique value in the **TARGET** column of the **app_train** DataFrame."
      ]
    },
    {
      "cell_type": "code",
      "execution_count": null,
      "metadata": {
        "colab": {
          "base_uri": "https://localhost:8080/"
        },
        "id": "ioLJ_lTiDOWo",
        "outputId": "0791165d-6045-40e6-80ab-6430f8cc58d0"
      },
      "outputs": [
        {
          "name": "stdout",
          "output_type": "stream",
          "text": [
            "Count of null in the 'TARGET' column: 0\n"
          ]
        }
      ],
      "source": [
        "bool_series = pd.isnull(app_train['TARGET'])\n",
        "null_value_count = bool_series.sum()\n",
        "fitered_data = app_train[bool_series]\n",
        "print(\"Count of null in the 'TARGET' column:\", null_value_count)\n",
        "\n",
        "\n",
        "# Check if there are any missing values in the 'TARGET' column of the app_train DataFrame"
      ]
    },
    {
      "cell_type": "code",
      "execution_count": null,
      "metadata": {
        "colab": {
          "base_uri": "https://localhost:8080/"
        },
        "id": "oOMU1jvEDOW1",
        "outputId": "8cb49c66-a75c-4f6d-d81c-2ee7377bf271"
      },
      "outputs": [
        {
          "data": {
            "text/plain": [
              "0    282686\n",
              "1     24825\n",
              "Name: TARGET, dtype: int64"
            ]
          },
          "execution_count": 40,
          "metadata": {},
          "output_type": "execute_result"
        }
      ],
      "source": [
        "# Count the occurrences of each unique value in the 'TARGET' column of the app_train DataFrame\n",
        "app_train['TARGET'].value_counts()"
      ]
    },
    {
      "cell_type": "markdown",
      "metadata": {
        "id": "y1a_rUqc6rMg",
        "nbgrader": {
          "grade": false,
          "locked": true,
          "solution": false
        }
      },
      "source": [
        "### Step 4: Analyzing the Data Column Distribution\n",
        "- Utilize the Seaborn library to generate a **countplot**, a bar plot that illustrates the frequency of each category in the TARGET column.\n",
        "- This plot displays two categories: Payer and Defaulter, signifying the target variable. The height of the bars indicates the count of each category, denoting the number of occurrences of payers and defaulters in the dataset."
      ]
    },
    {
      "cell_type": "code",
      "execution_count": null,
      "metadata": {
        "colab": {
          "base_uri": "https://localhost:8080/",
          "height": 455
        },
        "id": "ozofSi90DOXK",
        "outputId": "82f3f5db-4683-463a-b21a-30b855f2f60d"
      },
      "outputs": [
        {
          "data": {
            "image/png": "[encoded data removed]",
            "text/plain": [
              "<Figure size 432x288 with 1 Axes>"
            ]
          },
          "metadata": {
            "needs_background": "light"
          },
          "output_type": "display_data"
        }
      ],
      "source": [
        "import seaborn as sns\n",
        "import matplotlib.pyplot as plt\n",
        "\n",
        "\n",
        "sns.countplot(x = 'TARGET', data = app_train)\n",
        "plt.xticks([0,1], ['Payer', 'Defaulter'])\n",
        "plt.xlabel('Target Group', fontsize=12)\n",
        "plt.title('Distribution of Target Variable', fontsize=14)\n",
        "plt.show()\n",
        "\n",
        "\n",
        "# Visualize the distribution of values in the 'TARGET' column using a seaborn countplot\n",
        "# Set custom x-axis labels for better interpretation ('Payer' for 0, 'Defaulter' for 1)\n",
        "# Adjust x-axis label size for better readability"
      ]
    },
    {
      "cell_type": "markdown",
      "metadata": {
        "id": "62CJLPIVDOXU",
        "nbgrader": {
          "grade": false,
          "locked": true,
          "solution": false
        }
      },
      "source": [
        "### Percentage of Defaulters to Payers\n",
        "- Calculate the percentage of defaulters in the dataset by dividing the number of data points with **TARGET** value of 1 (defaulters) by the number of data points with **TARGET** value of 0 (non-defaulters) and then multiplying by 100"
      ]
    },
    {
      "cell_type": "code",
      "execution_count": null,
      "metadata": {
        "colab": {
          "base_uri": "https://localhost:8080/"
        },
        "id": "uv3oYfd0DOXX",
        "outputId": "8ab290e2-0834-4ccd-8901-0cda45edc6b0"
      },
      "outputs": [
        {
          "name": "stdout",
          "output_type": "stream",
          "text": [
            "Percentage of defaulters: 8.781828601345662 %\n"
          ]
        }
      ],
      "source": [
        "num_defaulters = app_train['TARGET'].value_counts()[1]\n",
        "num_non_defaulters = app_train['TARGET'].value_counts()[0]\n",
        "percentage_of_defaulters = (num_defaulters / num_non_defaulters)*100\n",
        "print(\"Percentage of defaulters:\", percentage_of_defaulters, \"%\")\n",
        "\n",
        "# Calculate the percentage of defaulters (TARGET=1) relative to non-defaulters (TARGET=0) in the app_train DataFrame"
      ]
    },
    {
      "cell_type": "markdown",
      "metadata": {
        "id": "Dd_4QMvSDOXg",
        "nbgrader": {
          "grade": false,
          "locked": true,
          "solution": false
        }
      },
      "source": [
        "### Step 5: Balancing the Data\n",
        "- Upsample the fraud instances in the dataset by randomly duplicating them to increase their quantity. This step balances the data since fraud is a minority class compared to the **not_fraud** class.\n",
        "- By setting **replace=True**, the resampling allows for the same fraud instances to be selected multiple times, ensuring that the number of fraud instances matches the number of **not_fraud** instances.\n",
        "- Set the **random_state** parameter to ensure consistent and reproducible results.\n",
        "- Use resampling with replacement to create an upsampled version of the fraud data, matching the number of instances in the majority class.\n",
        "- Combine the original majority class instances (**not_fraud**) with the upsampled fraud instances (**fraud_upsampled**) to create a balanced dataset.\n",
        "- Display the count of each target class (0 and 1) in the upsampled dataset."
      ]
    },
    {
      "cell_type": "code",
      "execution_count": null,
      "metadata": {
        "id": "p6oYn_GEDOX0",
        "outputId": "47f67b4e-bce7-43bc-d580-e907cb81f0b6"
      },
      "outputs": [
        {
          "name": "stdout",
          "output_type": "stream",
          "text": [
            "0    282686\n",
            "1    282686\n",
            "Name: TARGET, dtype: int64\n"
          ]
        }
      ],
      "source": [
        "from sklearn.utils import resample\n",
        "\n",
        "app_train_majority = app_train[app_train['TARGET'] == 0]\n",
        "app_train_minority = app_train[app_train['TARGET'] == 1]\n",
        "\n",
        "app_train_minority_unsampled = resample(app_train_minority,\n",
        "                               replace=True,\n",
        "                               n_samples=len(app_train_majority),\n",
        "                               random_state=123)\n",
        "app_train_unsampled = pd.concat([app_train_majority, app_train_minority_unsampled])\n",
        "print(app_train_unsampled['TARGET'].value_counts())\n",
        "\n",
        "\n",
        "\n",
        "# Import the resample function from sklearn.utils for handling class imbalance\n",
        "# Extract the subset of the DataFrame where the target variable 'TARGET' is 0 (not fraud)\n",
        "# Extract the subset of the DataFrame where the target variable 'TARGET' is 1 (fraud)\n",
        "# Use the resample function to upsample the minority class (fraud) by generating additional samples\n",
        " # Sample with replacement to create additional instances\n",
        "    # Match the number of samples in the majority class (not fraud)\n",
        "    # Set a random seed for reproducibility of results\n",
        "\n"
      ]
    },
    {
      "cell_type": "code",
      "execution_count": null,
      "metadata": {
        "id": "1IA6RF4zDOX-"
      },
      "outputs": [],
      "source": [
        "fraud = app_train_minority\n",
        "not_fraud = app_train_majority\n",
        "\n",
        "fraud_upsampled = resample(fraud,\n",
        "                           replace=True,\n",
        "                           n_samples=len(not_fraud),\n",
        "                           random_state=27)\n",
        "app_train_upsampled = pd.concat([not_fraud, fraud_upsampled])\n",
        "\n",
        "\n",
        "# Use the resample function from sklearn.utils to upsample the minority class (fraud)\n",
        "# 'fraud' is the DataFrame containing instances where the target variable 'TARGET' is 1\n",
        "# replace=True specifies that sampling should be done with replacement\n",
        "# This means that the same instance of fraud may be selected multiple times during upsampling\n",
        "    # n_samples sets the number of samples to generate for the minority class\n",
        "    # It is set to the length of the majority class (not fraud) to balance the class distribution\n",
        "    # random_state is used to ensure reproducibility of results\n",
        "    # Setting a specific random seed (e.g., 27) ensures the same results are obtained if the code is run again"
      ]
    },
    {
      "cell_type": "code",
      "execution_count": null,
      "metadata": {
        "id": "5DH9ySjDDOYI"
      },
      "outputs": [],
      "source": [
        "upsampled = pd.concat([not_fraud, fraud_upsampled])"
      ]
    },
    {
      "cell_type": "code",
      "execution_count": null,
      "metadata": {
        "colab": {
          "base_uri": "https://localhost:8080/"
        },
        "id": "R1PuZxYuDOYP",
        "outputId": "461c34ec-5f16-4335-a154-a953b5e1dafe"
      },
      "outputs": [
        {
          "data": {
            "text/plain": [
              "0    282686\n",
              "1    282686\n",
              "Name: TARGET, dtype: int64"
            ]
          },
          "execution_count": 46,
          "metadata": {},
          "output_type": "execute_result"
        }
      ],
      "source": [
        "upsampled.TARGET.value_counts()"
      ]
    },
    {
      "cell_type": "code",
      "execution_count": null,
      "metadata": {
        "colab": {
          "base_uri": "https://localhost:8080/",
          "height": 299
        },
        "id": "hCnz-L9NDOYX",
        "outputId": "a858b3da-98b2-4837-dbd9-d27e2ec605e7"
      },
      "outputs": [
        {
          "data": {
            "text/html": [
              "<div>\n",
              "<style scoped>\n",
              "    .dataframe tbody tr th:only-of-type {\n",
              "        vertical-align: middle;\n",
              "    }\n",
              "\n",
              "    .dataframe tbody tr th {\n",
              "        vertical-align: top;\n",
              "    }\n",
              "\n",
              "    .dataframe thead th {\n",
              "        text-align: right;\n",
              "    }\n",
              "</style>\n",
              "<table border=\"1\" class=\"dataframe\">\n",
              "  <thead>\n",
              "    <tr style=\"text-align: right;\">\n",
              "      <th></th>\n",
              "      <th>SK_ID_CURR</th>\n",
              "      <th>TARGET</th>\n",
              "      <th>NAME_CONTRACT_TYPE</th>\n",
              "      <th>CODE_GENDER</th>\n",
              "      <th>FLAG_OWN_CAR</th>\n",
              "      <th>FLAG_OWN_REALTY</th>\n",
              "      <th>CNT_CHILDREN</th>\n",
              "      <th>AMT_INCOME_TOTAL</th>\n",
              "      <th>AMT_CREDIT</th>\n",
              "      <th>AMT_ANNUITY</th>\n",
              "      <th>...</th>\n",
              "      <th>FLAG_DOCUMENT_18</th>\n",
              "      <th>FLAG_DOCUMENT_19</th>\n",
              "      <th>FLAG_DOCUMENT_20</th>\n",
              "      <th>FLAG_DOCUMENT_21</th>\n",
              "      <th>AMT_REQ_CREDIT_BUREAU_HOUR</th>\n",
              "      <th>AMT_REQ_CREDIT_BUREAU_DAY</th>\n",
              "      <th>AMT_REQ_CREDIT_BUREAU_WEEK</th>\n",
              "      <th>AMT_REQ_CREDIT_BUREAU_MON</th>\n",
              "      <th>AMT_REQ_CREDIT_BUREAU_QRT</th>\n",
              "      <th>AMT_REQ_CREDIT_BUREAU_YEAR</th>\n",
              "    </tr>\n",
              "  </thead>\n",
              "  <tbody>\n",
              "    <tr>\n",
              "      <th>1</th>\n",
              "      <td>100003</td>\n",
              "      <td>0</td>\n",
              "      <td>Cash loans</td>\n",
              "      <td>F</td>\n",
              "      <td>N</td>\n",
              "      <td>N</td>\n",
              "      <td>0</td>\n",
              "      <td>270000.0</td>\n",
              "      <td>1293502.5</td>\n",
              "      <td>35698.5</td>\n",
              "      <td>...</td>\n",
              "      <td>0</td>\n",
              "      <td>0</td>\n",
              "      <td>0</td>\n",
              "      <td>0</td>\n",
              "      <td>0.0</td>\n",
              "      <td>0.0</td>\n",
              "      <td>0.0</td>\n",
              "      <td>0.0</td>\n",
              "      <td>0.0</td>\n",
              "      <td>0.0</td>\n",
              "    </tr>\n",
              "    <tr>\n",
              "      <th>2</th>\n",
              "      <td>100004</td>\n",
              "      <td>0</td>\n",
              "      <td>Revolving loans</td>\n",
              "      <td>M</td>\n",
              "      <td>Y</td>\n",
              "      <td>Y</td>\n",
              "      <td>0</td>\n",
              "      <td>67500.0</td>\n",
              "      <td>135000.0</td>\n",
              "      <td>6750.0</td>\n",
              "      <td>...</td>\n",
              "      <td>0</td>\n",
              "      <td>0</td>\n",
              "      <td>0</td>\n",
              "      <td>0</td>\n",
              "      <td>0.0</td>\n",
              "      <td>0.0</td>\n",
              "      <td>0.0</td>\n",
              "      <td>0.0</td>\n",
              "      <td>0.0</td>\n",
              "      <td>0.0</td>\n",
              "    </tr>\n",
              "    <tr>\n",
              "      <th>3</th>\n",
              "      <td>100006</td>\n",
              "      <td>0</td>\n",
              "      <td>Cash loans</td>\n",
              "      <td>F</td>\n",
              "      <td>N</td>\n",
              "      <td>Y</td>\n",
              "      <td>0</td>\n",
              "      <td>135000.0</td>\n",
              "      <td>312682.5</td>\n",
              "      <td>29686.5</td>\n",
              "      <td>...</td>\n",
              "      <td>0</td>\n",
              "      <td>0</td>\n",
              "      <td>0</td>\n",
              "      <td>0</td>\n",
              "      <td>NaN</td>\n",
              "      <td>NaN</td>\n",
              "      <td>NaN</td>\n",
              "      <td>NaN</td>\n",
              "      <td>NaN</td>\n",
              "      <td>NaN</td>\n",
              "    </tr>\n",
              "    <tr>\n",
              "      <th>4</th>\n",
              "      <td>100007</td>\n",
              "      <td>0</td>\n",
              "      <td>Cash loans</td>\n",
              "      <td>M</td>\n",
              "      <td>N</td>\n",
              "      <td>Y</td>\n",
              "      <td>0</td>\n",
              "      <td>121500.0</td>\n",
              "      <td>513000.0</td>\n",
              "      <td>21865.5</td>\n",
              "      <td>...</td>\n",
              "      <td>0</td>\n",
              "      <td>0</td>\n",
              "      <td>0</td>\n",
              "      <td>0</td>\n",
              "      <td>0.0</td>\n",
              "      <td>0.0</td>\n",
              "      <td>0.0</td>\n",
              "      <td>0.0</td>\n",
              "      <td>0.0</td>\n",
              "      <td>0.0</td>\n",
              "    </tr>\n",
              "    <tr>\n",
              "      <th>5</th>\n",
              "      <td>100008</td>\n",
              "      <td>0</td>\n",
              "      <td>Cash loans</td>\n",
              "      <td>M</td>\n",
              "      <td>N</td>\n",
              "      <td>Y</td>\n",
              "      <td>0</td>\n",
              "      <td>99000.0</td>\n",
              "      <td>490495.5</td>\n",
              "      <td>27517.5</td>\n",
              "      <td>...</td>\n",
              "      <td>0</td>\n",
              "      <td>0</td>\n",
              "      <td>0</td>\n",
              "      <td>0</td>\n",
              "      <td>0.0</td>\n",
              "      <td>0.0</td>\n",
              "      <td>0.0</td>\n",
              "      <td>0.0</td>\n",
              "      <td>1.0</td>\n",
              "      <td>1.0</td>\n",
              "    </tr>\n",
              "  </tbody>\n",
              "</table>\n",
              "<p>5 rows × 122 columns</p>\n",
              "</div>"
            ],
            "text/plain": [
              "   SK_ID_CURR  TARGET NAME_CONTRACT_TYPE CODE_GENDER FLAG_OWN_CAR  \\\n",
              "1      100003       0         Cash loans           F            N   \n",
              "2      100004       0    Revolving loans           M            Y   \n",
              "3      100006       0         Cash loans           F            N   \n",
              "4      100007       0         Cash loans           M            N   \n",
              "5      100008       0         Cash loans           M            N   \n",
              "\n",
              "  FLAG_OWN_REALTY  CNT_CHILDREN  AMT_INCOME_TOTAL  AMT_CREDIT  AMT_ANNUITY  \\\n",
              "1               N             0          270000.0   1293502.5      35698.5   \n",
              "2               Y             0           67500.0    135000.0       6750.0   \n",
              "3               Y             0          135000.0    312682.5      29686.5   \n",
              "4               Y             0          121500.0    513000.0      21865.5   \n",
              "5               Y             0           99000.0    490495.5      27517.5   \n",
              "\n",
              "   ...  FLAG_DOCUMENT_18 FLAG_DOCUMENT_19 FLAG_DOCUMENT_20 FLAG_DOCUMENT_21  \\\n",
              "1  ...                 0                0                0                0   \n",
              "2  ...                 0                0                0                0   \n",
              "3  ...                 0                0                0                0   \n",
              "4  ...                 0                0                0                0   \n",
              "5  ...                 0                0                0                0   \n",
              "\n",
              "  AMT_REQ_CREDIT_BUREAU_HOUR AMT_REQ_CREDIT_BUREAU_DAY  \\\n",
              "1                        0.0                       0.0   \n",
              "2                        0.0                       0.0   \n",
              "3                        NaN                       NaN   \n",
              "4                        0.0                       0.0   \n",
              "5                        0.0                       0.0   \n",
              "\n",
              "   AMT_REQ_CREDIT_BUREAU_WEEK  AMT_REQ_CREDIT_BUREAU_MON  \\\n",
              "1                         0.0                        0.0   \n",
              "2                         0.0                        0.0   \n",
              "3                         NaN                        NaN   \n",
              "4                         0.0                        0.0   \n",
              "5                         0.0                        0.0   \n",
              "\n",
              "   AMT_REQ_CREDIT_BUREAU_QRT  AMT_REQ_CREDIT_BUREAU_YEAR  \n",
              "1                        0.0                         0.0  \n",
              "2                        0.0                         0.0  \n",
              "3                        NaN                         NaN  \n",
              "4                        0.0                         0.0  \n",
              "5                        1.0                         1.0  \n",
              "\n",
              "[5 rows x 122 columns]"
            ]
          },
          "execution_count": 47,
          "metadata": {},
          "output_type": "execute_result"
        }
      ],
      "source": [
        "upsampled.head()"
      ]
    },
    {
      "cell_type": "markdown",
      "metadata": {
        "id": "Ugmlvr4CDOYe",
        "nbgrader": {
          "grade": false,
          "locked": true,
          "solution": false
        }
      },
      "source": [
        "### Plotting the Balanced Data\n",
        "- Create a countplot using the upsampled dataset to display the distribution of the TARGET variable. The x-axis represents the TARGET categories, labeled as Payer and Defaulter, while the y-axis represents the count of occurrences.\n"
      ]
    },
    {
      "cell_type": "code",
      "execution_count": null,
      "metadata": {
        "colab": {
          "base_uri": "https://localhost:8080/",
          "height": 455
        },
        "id": "t1y5DSdPDOYg",
        "outputId": "f558a21e-2fb2-4d6b-a20d-1720b7f52c92"
      },
      "outputs": [
        {
          "data": {
            "image/png": "[encoded data removed]",
            "text/plain": [
              "<Figure size 432x288 with 1 Axes>"
            ]
          },
          "metadata": {
            "needs_background": "light"
          },
          "output_type": "display_data"
        }
      ],
      "source": [
        "fig, ax = plt.subplots()\n",
        "sns.countplot(x = 'TARGET', data=upsampled, palette='viridis', ax=ax)\n",
        "ax.set_xticklabels(['Non-Defaulter', 'Defaulter'])\n",
        "ax.tick_params(axis='x', labelsize=15)\n",
        "plt.show()\n",
        "\n",
        "\n",
        "\n",
        "# Create a new figure and axis using matplotlib's subplots function\n",
        "# This allows for customization and control over the layout of the plot\n",
        "# Use seaborn's countplot to create a bar plot of the 'TARGET' variable in the upsampled DataFrame\n",
        "# 'upsampled' is assumed to be the DataFrame containing the upsampled data\n",
        "# 'x='TARGET'' specifies the variable to be plotted on the x-axis\n",
        "# 'palette='viridis'' sets the color palette of the plot\n",
        "# Set custom x-axis labels for better interpretation of the plot\n",
        "# Customize x-axis tick parameters, specifically setting the label size to 15 for better readability\n",
        "# Display the plot"
      ]
    },
    {
      "cell_type": "markdown",
      "metadata": {
        "id": "vxhx6QM8DOYo",
        "nbgrader": {
          "grade": false,
          "locked": true,
          "solution": false
        }
      },
      "source": [
        "### Step 6: Encoding (Label and One-Hot) of the Full Dataset\n",
        "- Use a **LabelEncoder** object from the scikit-learn library to perform label encoding on categorical columns.\n",
        "- Iterate through each column in the dataset, check if it is of object data type and if it has two or fewer unique categories. If these conditions are met, transform the column values using the label encoder, and assign the transformed values back to the column in the dataset.\n",
        "- Keep track of the number of columns that were label encoded and print the count at the end.\n",
        "- Perform one-hot encoding on the upsampled dataset and print its shape."
      ]
    },
    {
      "cell_type": "code",
      "execution_count": null,
      "metadata": {
        "colab": {
          "base_uri": "https://localhost:8080/"
        },
        "id": "LaGPZKUADOYq",
        "outputId": "4b7b94ae-c8c3-47c1-f5fa-3c956ad1af1b"
      },
      "outputs": [
        {
          "name": "stdout",
          "output_type": "stream",
          "text": [
            "Total number of columns label encoded: 4\n"
          ]
        }
      ],
      "source": [
        "from sklearn.preprocessing import LabelEncoder\n",
        "\n",
        "Label_encoder_count=0\n",
        "\n",
        "for col in upsampled.columns:\n",
        "    if upsampled[col].dtype == 'object' and upsampled[col].nunique() <=2:\n",
        "        le = LabelEncoder()\n",
        "        upsampled[col] = le.fit_transform(upsampled[col])\n",
        "        Label_encoder_count += 1\n",
        "print(f\"Total number of columns label encoded: {Label_encoder_count}\")\n",
        "\n",
        "\n",
        "# Create a label encoder object using scikit-learn's LabelEncoder\n",
        "# Initialize a counter variable to keep track of the number of columns that are label encoded\n",
        "# Iterate through the columns of the 'upsampled' DataFrame\n",
        "    # Check if the data type of the column is 'object'\n",
        "        # Check if the column has 2 or fewer unique categories\n",
        "            # Fit the label encoder on the training data in the current column\n",
        "            # Transform both the training and testing data in the current column\n",
        "            # Increment the label encoder count\n",
        "# Print the total number of columns that were label encoded"
      ]
    },
    {
      "cell_type": "code",
      "execution_count": null,
      "metadata": {
        "id": "JHL1KwtIDOYx"
      },
      "outputs": [],
      "source": [
        "upsampled_encoded = pd.get_dummies(upsampled, drop_first=True)\n",
        "print(upsampled_encoded.shape)\n",
        "\n",
        "\n",
        "# Use pandas get_dummies function to one-hot encode categorical variables in the 'upsampled' DataFrame\n",
        "# One-hot encoding is a technique to represent categorical variables as binary vectors\n",
        "# Each category is transformed into a new binary column, and each observation is marked with a 1 or 0 for the presence or absence of the category\n",
        "# Print the shape of the 'upsampled' DataFrame to show the number of columns after one-hot encoding"
      ]
    },
    {
      "cell_type": "markdown",
      "metadata": {
        "id": "Jvl3Dbk0DOY7",
        "nbgrader": {
          "grade": false,
          "locked": true,
          "solution": false
        }
      },
      "source": [
        "### Step 7: Splitting and Training the Dataset\n",
        "- Import the **train_test_split** function from the **sklearn.model_selection** module, used to split the dataset into training and testing sets.\n",
        "- Split the features and target data into training and testing sets using the **train_test_split** function, with a test size of 20% and a random state of 10.\n",
        "- Assign the resulting training and testing sets to features_train, **features_test**, **target_train**, and **target_test**, respectively.\n"
      ]
    },
    {
      "cell_type": "code",
      "execution_count": null,
      "metadata": {
        "id": "IaWk2lztDOY8"
      },
      "outputs": [],
      "source": [
        "from sklearn.model_selection import train_test_split\n",
        "\n",
        "x = upsampled.drop('TARGET', axis=1)\n",
        "y = upsampled['TARGET']\n",
        "\n",
        "class_names = upsampled['TARGET']\n",
        "features_train, features_test, target_train, target_test = train_test_split(x,y, test_size=0.20, random_state=10)\n",
        "\n",
        "# Import the train_test_split function from scikit-learn to split the data into training and testing sets\n",
        "# Extract features from the upsampled DataFrame, excluding the 'TARGET' column\n",
        "# Extract the target variable 'TARGET' from the upsampled DataFrame\n",
        "# Create a variable 'class_names' that holds the 'TARGET' column of the upsampled DataFrame\n",
        "# This is often used in classification tasks for labeling classes\n",
        "# Use train_test_split to split the data into training and testing sets\n",
        "# features_train and target_train represent the training set, while features_test and target_test represent the testing set\n",
        "# test_size=0.20 specifies that 20% of the data will be used for testing, and random_state=10 ensures reproducibility"
      ]
    },
    {
      "cell_type": "code",
      "execution_count": null,
      "metadata": {
        "id": "hBaofAW5DOZB"
      },
      "outputs": [],
      "source": [
        "features_train.shape,features_test.shape, target_train.shape, target_test.shape"
      ]
    },
    {
      "cell_type": "markdown",
      "metadata": {
        "id": "fikn6_SDz9h0",
        "nbgrader": {
          "grade": false,
          "locked": true,
          "solution": false
        }
      },
      "source": [
        "### Handling Missing Values and Imputing Data\n",
        "\n",
        "\n",
        "- Fill the missing values in the **features_train** DataFrame using the median of each column.\n",
        "- Identify the categorical columns that have missing values and store them in the **list_categorical** list.\n",
        "- For each categorical column in **features_train** with missing values, apply the **SimpleImputer** with the strategy of filling the missing values with the most frequent value.\n",
        "- Repeat the same process for the **features_test** DataFrame.\n",
        "- Fill the upsampled DataFrame with the median values from the **app_train** DataFrame using the **fillna()** method.\n",
        "- Lastly, check if there are any remaining missing values in the upsampled DataFrame and display the first few rows of the DataFrame."
      ]
    },
    {
      "cell_type": "code",
      "execution_count": null,
      "metadata": {
        "id": "mpC9RTK7DOZI",
        "outputId": "d5772575-625e-47ed-9721-103b7c518bef"
      },
      "outputs": [
        {
          "name": "stderr",
          "output_type": "stream",
          "text": [
            "/tmp/ipykernel_205/219432824.py:1: FutureWarning: Dropping of nuisance columns in DataFrame reductions (with 'numeric_only=None') is deprecated; in a future version this will raise TypeError.  Select only valid columns before calling the reduction.\n",
            "  features_train=features_train.fillna(features_train.median())\n"
          ]
        }
      ],
      "source": [
        "features_train=features_train.fillna(features_train.median())"
      ]
    },
    {
      "cell_type": "code",
      "execution_count": null,
      "metadata": {
        "id": "kx0gW062DOZP"
      },
      "outputs": [],
      "source": [
        "# Import SimpleImputer from scikit-learn to handle missing values\n",
        "from sklearn.impute import SimpleImputer\n",
        "# Initialize an empty list to store column names of categorical variables with missing values\n",
        "list_categorical = []\n",
        "# Iterate through the columns of the training features\n",
        "    # Check if the column is of type 'object' and contains any missing values\n",
        "        # Append the column name to the list\n",
        "list_categorical.append(col)\n",
        "\n",
        "for col in list_categorical:\n",
        "    imputer = SimpleImputer(strategy='most_frequent')\n",
        "    upsampled[col] = imputer.fit_transform(upsampled[col].values.reshape(-1,1))\n",
        "\n",
        "\n",
        "        # Iterate through the list of categorical columns with missing values\n",
        "    # Create a SimpleImputer object with the strategy of replacing missing values with the most frequent value\n",
        "\n",
        "    # Apply the imputer to fill missing values in the current column\n",
        "    # The reshape(-1, 1) is used to convert the 1D array into a 2D array, as SimpleImputer expects a 2D input"
      ]
    },
    {
      "cell_type": "code",
      "execution_count": null,
      "metadata": {
        "id": "jFVgIne7DOZW",
        "outputId": "2b0d2d75-47d2-4eeb-cf65-d7fa08055e98"
      },
      "outputs": [
        {
          "name": "stderr",
          "output_type": "stream",
          "text": [
            "/tmp/ipykernel_205/1654468904.py:1: FutureWarning: Dropping of nuisance columns in DataFrame reductions (with 'numeric_only=None') is deprecated; in a future version this will raise TypeError.  Select only valid columns before calling the reduction.\n",
            "  features_test=features_test.fillna(features_test.median())\n"
          ]
        }
      ],
      "source": [
        "features_test=features_test.fillna(features_test.median())"
      ]
    },
    {
      "cell_type": "code",
      "execution_count": null,
      "metadata": {
        "id": "QGY61C1YDOZb"
      },
      "outputs": [],
      "source": [
        "# Import SimpleImputer from scikit-learn to handle missing values\n",
        "from sklearn.impute import SimpleImputer\n",
        "\n",
        "# Initialize an empty list to store column names of categorical variables with missing values\n",
        "list_categorical = []\n",
        "\n",
        "# Iterate through the columns of the testing features\n",
        "for col in features_test:\n",
        "    # Check if the column is of type 'object' and contains any missing values\n",
        "    if features_test[col].dtype == 'object' and features_test[col].isnull().values.any():\n",
        "        # Append the column name to the list\n",
        "        list_categorical.append(col)\n",
        "\n",
        "# Iterate through the list of categorical columns with missing values\n",
        "for col in list_categorical:\n",
        "    # Create a SimpleImputer object with the strategy of replacing missing values with the most frequent value\n",
        "    imputer = SimpleImputer(strategy='most_frequent')\n",
        "\n",
        "#TODO\n",
        "features_test[col] = imputer.fit_transform(features_test[[col]])\n",
        "    # Apply the imputer to fill missing values in the current column\n",
        "    # The double square brackets ([[col]]) are used to pass a DataFrame with a single column to SimpleImputer,\n",
        "    # as it expects a 2D input"
      ]
    },
    {
      "cell_type": "code",
      "execution_count": null,
      "metadata": {
        "colab": {
          "base_uri": "https://localhost:8080/"
        },
        "id": "6kOv2eFtDOZg",
        "outputId": "866c3883-cd3b-4747-c486-5906137bba0b"
      },
      "outputs": [
        {
          "name": "stderr",
          "output_type": "stream",
          "text": [
            "/tmp/ipykernel_205/1304145824.py:1: FutureWarning: Dropping of nuisance columns in DataFrame reductions (with 'numeric_only=None') is deprecated; in a future version this will raise TypeError.  Select only valid columns before calling the reduction.\n",
            "  upsampled.fillna(app_train.median(), inplace=True)\n"
          ]
        }
      ],
      "source": [
        "upsampled.fillna(app_train.median(), inplace=True)"
      ]
    },
    {
      "cell_type": "code",
      "execution_count": null,
      "metadata": {
        "colab": {
          "base_uri": "https://localhost:8080/"
        },
        "id": "Dt8AGoKtDOZl",
        "outputId": "ac80c257-d145-4a3e-b8b2-45d7568b320c"
      },
      "outputs": [
        {
          "data": {
            "text/plain": [
              "True"
            ]
          },
          "execution_count": 26,
          "metadata": {},
          "output_type": "execute_result"
        }
      ],
      "source": [
        "upsampled.isnull().values.any()"
      ]
    },
    {
      "cell_type": "code",
      "execution_count": null,
      "metadata": {
        "colab": {
          "base_uri": "https://localhost:8080/",
          "height": 317
        },
        "id": "bPE6ofFgDOZq",
        "outputId": "78292f0a-0c9c-4cdd-ff89-8eb6072e60dc"
      },
      "outputs": [
        {
          "data": {
            "text/html": [
              "<div>\n",
              "<style scoped>\n",
              "    .dataframe tbody tr th:only-of-type {\n",
              "        vertical-align: middle;\n",
              "    }\n",
              "\n",
              "    .dataframe tbody tr th {\n",
              "        vertical-align: top;\n",
              "    }\n",
              "\n",
              "    .dataframe thead th {\n",
              "        text-align: right;\n",
              "    }\n",
              "</style>\n",
              "<table border=\"1\" class=\"dataframe\">\n",
              "  <thead>\n",
              "    <tr style=\"text-align: right;\">\n",
              "      <th></th>\n",
              "      <th>SK_ID_CURR</th>\n",
              "      <th>TARGET</th>\n",
              "      <th>NAME_CONTRACT_TYPE</th>\n",
              "      <th>CODE_GENDER</th>\n",
              "      <th>FLAG_OWN_CAR</th>\n",
              "      <th>FLAG_OWN_REALTY</th>\n",
              "      <th>CNT_CHILDREN</th>\n",
              "      <th>AMT_INCOME_TOTAL</th>\n",
              "      <th>AMT_CREDIT</th>\n",
              "      <th>AMT_ANNUITY</th>\n",
              "      <th>...</th>\n",
              "      <th>FLAG_DOCUMENT_18</th>\n",
              "      <th>FLAG_DOCUMENT_19</th>\n",
              "      <th>FLAG_DOCUMENT_20</th>\n",
              "      <th>FLAG_DOCUMENT_21</th>\n",
              "      <th>AMT_REQ_CREDIT_BUREAU_HOUR</th>\n",
              "      <th>AMT_REQ_CREDIT_BUREAU_DAY</th>\n",
              "      <th>AMT_REQ_CREDIT_BUREAU_WEEK</th>\n",
              "      <th>AMT_REQ_CREDIT_BUREAU_MON</th>\n",
              "      <th>AMT_REQ_CREDIT_BUREAU_QRT</th>\n",
              "      <th>AMT_REQ_CREDIT_BUREAU_YEAR</th>\n",
              "    </tr>\n",
              "  </thead>\n",
              "  <tbody>\n",
              "    <tr>\n",
              "      <th>1</th>\n",
              "      <td>100003</td>\n",
              "      <td>0</td>\n",
              "      <td>0</td>\n",
              "      <td>F</td>\n",
              "      <td>0</td>\n",
              "      <td>0</td>\n",
              "      <td>0</td>\n",
              "      <td>270000.0</td>\n",
              "      <td>1293502.5</td>\n",
              "      <td>35698.5</td>\n",
              "      <td>...</td>\n",
              "      <td>0</td>\n",
              "      <td>0</td>\n",
              "      <td>0</td>\n",
              "      <td>0</td>\n",
              "      <td>0.0</td>\n",
              "      <td>0.0</td>\n",
              "      <td>0.0</td>\n",
              "      <td>0.0</td>\n",
              "      <td>0.0</td>\n",
              "      <td>0.0</td>\n",
              "    </tr>\n",
              "    <tr>\n",
              "      <th>2</th>\n",
              "      <td>100004</td>\n",
              "      <td>0</td>\n",
              "      <td>1</td>\n",
              "      <td>M</td>\n",
              "      <td>1</td>\n",
              "      <td>1</td>\n",
              "      <td>0</td>\n",
              "      <td>67500.0</td>\n",
              "      <td>135000.0</td>\n",
              "      <td>6750.0</td>\n",
              "      <td>...</td>\n",
              "      <td>0</td>\n",
              "      <td>0</td>\n",
              "      <td>0</td>\n",
              "      <td>0</td>\n",
              "      <td>0.0</td>\n",
              "      <td>0.0</td>\n",
              "      <td>0.0</td>\n",
              "      <td>0.0</td>\n",
              "      <td>0.0</td>\n",
              "      <td>0.0</td>\n",
              "    </tr>\n",
              "    <tr>\n",
              "      <th>3</th>\n",
              "      <td>100006</td>\n",
              "      <td>0</td>\n",
              "      <td>0</td>\n",
              "      <td>F</td>\n",
              "      <td>0</td>\n",
              "      <td>1</td>\n",
              "      <td>0</td>\n",
              "      <td>135000.0</td>\n",
              "      <td>312682.5</td>\n",
              "      <td>29686.5</td>\n",
              "      <td>...</td>\n",
              "      <td>0</td>\n",
              "      <td>0</td>\n",
              "      <td>0</td>\n",
              "      <td>0</td>\n",
              "      <td>0.0</td>\n",
              "      <td>0.0</td>\n",
              "      <td>0.0</td>\n",
              "      <td>0.0</td>\n",
              "      <td>0.0</td>\n",
              "      <td>0.0</td>\n",
              "    </tr>\n",
              "    <tr>\n",
              "      <th>4</th>\n",
              "      <td>100007</td>\n",
              "      <td>0</td>\n",
              "      <td>0</td>\n",
              "      <td>M</td>\n",
              "      <td>0</td>\n",
              "      <td>1</td>\n",
              "      <td>0</td>\n",
              "      <td>121500.0</td>\n",
              "      <td>513000.0</td>\n",
              "      <td>21865.5</td>\n",
              "      <td>...</td>\n",
              "      <td>0</td>\n",
              "      <td>0</td>\n",
              "      <td>0</td>\n",
              "      <td>0</td>\n",
              "      <td>0.0</td>\n",
              "      <td>0.0</td>\n",
              "      <td>0.0</td>\n",
              "      <td>0.0</td>\n",
              "      <td>0.0</td>\n",
              "      <td>0.0</td>\n",
              "    </tr>\n",
              "    <tr>\n",
              "      <th>5</th>\n",
              "      <td>100008</td>\n",
              "      <td>0</td>\n",
              "      <td>0</td>\n",
              "      <td>M</td>\n",
              "      <td>0</td>\n",
              "      <td>1</td>\n",
              "      <td>0</td>\n",
              "      <td>99000.0</td>\n",
              "      <td>490495.5</td>\n",
              "      <td>27517.5</td>\n",
              "      <td>...</td>\n",
              "      <td>0</td>\n",
              "      <td>0</td>\n",
              "      <td>0</td>\n",
              "      <td>0</td>\n",
              "      <td>0.0</td>\n",
              "      <td>0.0</td>\n",
              "      <td>0.0</td>\n",
              "      <td>0.0</td>\n",
              "      <td>1.0</td>\n",
              "      <td>1.0</td>\n",
              "    </tr>\n",
              "  </tbody>\n",
              "</table>\n",
              "<p>5 rows × 122 columns</p>\n",
              "</div>"
            ],
            "text/plain": [
              "   SK_ID_CURR  TARGET  NAME_CONTRACT_TYPE CODE_GENDER  FLAG_OWN_CAR  \\\n",
              "1      100003       0                   0           F             0   \n",
              "2      100004       0                   1           M             1   \n",
              "3      100006       0                   0           F             0   \n",
              "4      100007       0                   0           M             0   \n",
              "5      100008       0                   0           M             0   \n",
              "\n",
              "   FLAG_OWN_REALTY  CNT_CHILDREN  AMT_INCOME_TOTAL  AMT_CREDIT  AMT_ANNUITY  \\\n",
              "1                0             0          270000.0   1293502.5      35698.5   \n",
              "2                1             0           67500.0    135000.0       6750.0   \n",
              "3                1             0          135000.0    312682.5      29686.5   \n",
              "4                1             0          121500.0    513000.0      21865.5   \n",
              "5                1             0           99000.0    490495.5      27517.5   \n",
              "\n",
              "   ...  FLAG_DOCUMENT_18 FLAG_DOCUMENT_19 FLAG_DOCUMENT_20 FLAG_DOCUMENT_21  \\\n",
              "1  ...                 0                0                0                0   \n",
              "2  ...                 0                0                0                0   \n",
              "3  ...                 0                0                0                0   \n",
              "4  ...                 0                0                0                0   \n",
              "5  ...                 0                0                0                0   \n",
              "\n",
              "  AMT_REQ_CREDIT_BUREAU_HOUR AMT_REQ_CREDIT_BUREAU_DAY  \\\n",
              "1                        0.0                       0.0   \n",
              "2                        0.0                       0.0   \n",
              "3                        0.0                       0.0   \n",
              "4                        0.0                       0.0   \n",
              "5                        0.0                       0.0   \n",
              "\n",
              "   AMT_REQ_CREDIT_BUREAU_WEEK  AMT_REQ_CREDIT_BUREAU_MON  \\\n",
              "1                         0.0                        0.0   \n",
              "2                         0.0                        0.0   \n",
              "3                         0.0                        0.0   \n",
              "4                         0.0                        0.0   \n",
              "5                         0.0                        0.0   \n",
              "\n",
              "   AMT_REQ_CREDIT_BUREAU_QRT  AMT_REQ_CREDIT_BUREAU_YEAR  \n",
              "1                        0.0                         0.0  \n",
              "2                        0.0                         0.0  \n",
              "3                        0.0                         0.0  \n",
              "4                        0.0                         0.0  \n",
              "5                        1.0                         1.0  \n",
              "\n",
              "[5 rows x 122 columns]"
            ]
          },
          "execution_count": 27,
          "metadata": {},
          "output_type": "execute_result"
        }
      ],
      "source": [
        "upsampled.head()"
      ]
    },
    {
      "cell_type": "markdown",
      "metadata": {
        "id": "NFJwhYC01Nkp",
        "nbgrader": {
          "grade": false,
          "locked": true,
          "solution": false
        }
      },
      "source": [
        "- Split the features and target variables into training and testing datasets using the **train_test_split** function from **sklearn.model_selection** module.\n"
      ]
    },
    {
      "cell_type": "code",
      "execution_count": null,
      "metadata": {
        "id": "r7xiLWgdDOZv"
      },
      "outputs": [],
      "source": [
        "# Import the train_test_split function from scikit-learn to split the data into training and testing sets\n",
        "from sklearn.model_selection import train_test_split\n",
        "\n",
        "# Extract features from the 'upsampled' DataFrame, excluding the 'TARGET' column\n",
        "features = upsampled.drop(['TARGET'], axis=1)\n",
        "\n",
        "# Extract the target variable 'TARGET' from the 'upsampled' DataFrame\n",
        "target = upsampled.TARGET\n",
        "\n",
        "# Create a variable 'class_names' that holds the 'TARGET' column of the 'upsampled' DataFrame\n",
        "# This is often used in classification tasks for labeling classes\n",
        "class_names = upsampled.TARGET\n",
        "\n",
        "features_train, features_test, target_train, target_test = train_test_split(features, target, test_size=0.20, random_state=10)\n",
        "# Use train_test_split to split the data into training and testing sets\n",
        "# features_train and target_train represent the training set, while features_test and target_test will represent the testing set\n",
        "# test_size=0.20 will specify that 20% of the data will be used for testing, and random_state=10 ensures reproducibility"
      ]
    },
    {
      "cell_type": "code",
      "execution_count": null,
      "metadata": {
        "colab": {
          "base_uri": "https://localhost:8080/"
        },
        "id": "0Jr59KTcDOZ0",
        "outputId": "1ada888d-f2bd-4484-cfd9-c0aa7366d2f4"
      },
      "outputs": [
        {
          "data": {
            "text/plain": [
              "((452297, 121), (113075, 121), (452297,), (113075,))"
            ]
          },
          "execution_count": 29,
          "metadata": {},
          "output_type": "execute_result"
        }
      ],
      "source": [
        "features_train.shape,features_test.shape, target_train.shape, target_test.shape"
      ]
    },
    {
      "cell_type": "markdown",
      "metadata": {
        "id": "oWzvAoHuDOaB",
        "nbgrader": {
          "grade": false,
          "locked": true,
          "solution": false
        }
      },
      "source": [
        "### Step 8: Performing Feature Scaling on the Dataset\n",
        "- Perform feature scaling using **MinMaxScaler** on the training features, and store the scaled features in **features_train_scaled**."
      ]
    },
    {
      "cell_type": "code",
      "execution_count": null,
      "metadata": {
        "id": "6Y62aTD2DOZ5",
        "outputId": "709e4f70-7f60-44e8-e4fc-75fc076742e4"
      },
      "outputs": [
        {
          "name": "stderr",
          "output_type": "stream",
          "text": [
            "2024-11-22 20:35:24.585281: I tensorflow/core/platform/cpu_feature_guard.cc:193] This TensorFlow binary is optimized with oneAPI Deep Neural Network Library (oneDNN) to use the following CPU instructions in performance-critical operations:  AVX2 AVX512F AVX512_VNNI FMA\n",
            "To enable them in other operations, rebuild TensorFlow with the appropriate compiler flags.\n",
            "2024-11-22 20:35:25.229608: I tensorflow/core/util/port.cc:104] oneDNN custom operations are on. You may see slightly different numerical results due to floating-point round-off errors from different computation orders. To turn them off, set the environment variable `TF_ENABLE_ONEDNN_OPTS=0`.\n"
          ]
        },
        {
          "name": "stdout",
          "output_type": "stream",
          "text": [
            "VOC-NOTICE: GPU memory for this assignment is capped at 1024MiB\n"
          ]
        },
        {
          "name": "stderr",
          "output_type": "stream",
          "text": [
            "2024-11-22 20:35:30.901224: E tensorflow/compiler/xla/stream_executor/cuda/cuda_driver.cc:267] failed call to cuInit: CUDA_ERROR_NO_DEVICE: no CUDA-capable device is detected\n"
          ]
        }
      ],
      "source": [
        "# TensorFlow and tf.keras\n",
        "import tensorflow as tf\n",
        "from tensorflow import keras\n",
        "from keras.models import Sequential\n",
        "from keras.layers import Dense\n",
        "from keras.layers import Dropout\n",
        "from keras.layers import BatchNormalization"
      ]
    },
    {
      "cell_type": "code",
      "execution_count": null,
      "metadata": {
        "id": "UsqJZBi2DOZ9",
        "outputId": "f4d8f58b-ce90-4501-dc44-c7701c98fcb9"
      },
      "outputs": [
        {
          "ename": "AttributeError",
          "evalue": "'numpy.ndarray' object has no attribute 'values'",
          "output_type": "error",
          "traceback": [
            "\u001b[0;31m---------------------------------------------------------------------------\u001b[0m",
            "\u001b[0;31mAttributeError\u001b[0m                            Traceback (most recent call last)",
            "\u001b[0;32m/tmp/ipykernel_205/1550254050.py\u001b[0m in \u001b[0;36m<cell line: 1>\u001b[0;34m()\u001b[0m\n\u001b[0;32m----> 1\u001b[0;31m \u001b[0mfeatures_train\u001b[0m \u001b[0;34m=\u001b[0m \u001b[0mfeatures_train\u001b[0m\u001b[0;34m.\u001b[0m\u001b[0mvalues\u001b[0m\u001b[0;34m\u001b[0m\u001b[0;34m\u001b[0m\u001b[0m\n\u001b[0m\u001b[1;32m      2\u001b[0m \u001b[0mtarget_train\u001b[0m \u001b[0;34m=\u001b[0m \u001b[0mtarget_train\u001b[0m\u001b[0;34m.\u001b[0m\u001b[0mvalues\u001b[0m\u001b[0;34m\u001b[0m\u001b[0;34m\u001b[0m\u001b[0m\n\u001b[1;32m      3\u001b[0m \u001b[0mfeatures_test\u001b[0m \u001b[0;34m=\u001b[0m \u001b[0mfeatures_test\u001b[0m\u001b[0;34m.\u001b[0m\u001b[0mvalues\u001b[0m\u001b[0;34m\u001b[0m\u001b[0;34m\u001b[0m\u001b[0m\n\u001b[1;32m      4\u001b[0m \u001b[0mtarget_test\u001b[0m \u001b[0;34m=\u001b[0m \u001b[0mtarget_test\u001b[0m\u001b[0;34m.\u001b[0m\u001b[0mvalues\u001b[0m\u001b[0;34m\u001b[0m\u001b[0;34m\u001b[0m\u001b[0m\n\u001b[1;32m      5\u001b[0m \u001b[0;34m\u001b[0m\u001b[0m\n",
            "\u001b[0;31mAttributeError\u001b[0m: 'numpy.ndarray' object has no attribute 'values'"
          ]
        }
      ],
      "source": [
        "features_train = features_train.values\n",
        "target_train = target_train.values\n",
        "features_test = features_test.values\n",
        "target_test = target_test.values\n",
        "\n",
        "print(features_train.unique())\n",
        "# Convert the training features to a NumPy array\n",
        "# Convert the training target variable to a NumPy array\n",
        "# Convert the testing features to a NumPy array\n",
        "# Convert the testing target variable to a NumPy array"
      ]
    },
    {
      "cell_type": "code",
      "execution_count": null,
      "metadata": {
        "id": "D9w-pSA_DOaC",
        "outputId": "9012e565-2fc1-4843-b596-0201cbcc8b15"
      },
      "outputs": [
        {
          "ename": "ValueError",
          "evalue": "could not convert string to float: 'F'",
          "output_type": "error",
          "traceback": [
            "\u001b[0;31m---------------------------------------------------------------------------\u001b[0m",
            "\u001b[0;31mValueError\u001b[0m                                Traceback (most recent call last)",
            "\u001b[0;32m/tmp/ipykernel_205/3516695648.py\u001b[0m in \u001b[0;36m<cell line: 5>\u001b[0;34m()\u001b[0m\n\u001b[1;32m      3\u001b[0m \u001b[0mscaler\u001b[0m \u001b[0;34m=\u001b[0m \u001b[0mMinMaxScaler\u001b[0m\u001b[0;34m(\u001b[0m\u001b[0;34m)\u001b[0m\u001b[0;34m\u001b[0m\u001b[0;34m\u001b[0m\u001b[0m\n\u001b[1;32m      4\u001b[0m \u001b[0;34m\u001b[0m\u001b[0m\n\u001b[0;32m----> 5\u001b[0;31m \u001b[0mfeatures_train_scaled\u001b[0m \u001b[0;34m=\u001b[0m \u001b[0mscaler\u001b[0m\u001b[0;34m.\u001b[0m\u001b[0mfit_transform\u001b[0m\u001b[0;34m(\u001b[0m\u001b[0mfeatures_train\u001b[0m\u001b[0;34m.\u001b[0m\u001b[0mreshape\u001b[0m\u001b[0;34m(\u001b[0m\u001b[0;34m-\u001b[0m\u001b[0;36m1\u001b[0m\u001b[0;34m,\u001b[0m\u001b[0;36m1\u001b[0m\u001b[0;34m)\u001b[0m\u001b[0;34m)\u001b[0m\u001b[0;34m\u001b[0m\u001b[0;34m\u001b[0m\u001b[0m\n\u001b[0m\u001b[1;32m      6\u001b[0m \u001b[0mtarget_test_scaled\u001b[0m \u001b[0;34m=\u001b[0m \u001b[0mscaler\u001b[0m\u001b[0;34m.\u001b[0m\u001b[0mfit_transform\u001b[0m\u001b[0;34m(\u001b[0m\u001b[0mtarget_test\u001b[0m\u001b[0;34m.\u001b[0m\u001b[0mreshape\u001b[0m\u001b[0;34m(\u001b[0m\u001b[0;34m-\u001b[0m\u001b[0;36m1\u001b[0m\u001b[0;34m,\u001b[0m\u001b[0;36m1\u001b[0m\u001b[0;34m)\u001b[0m\u001b[0;34m)\u001b[0m\u001b[0;34m\u001b[0m\u001b[0;34m\u001b[0m\u001b[0m\n\u001b[1;32m      7\u001b[0m \u001b[0;34m\u001b[0m\u001b[0m\n",
            "\u001b[0;32m/usr/local/lib/python3.10/site-packages/sklearn/utils/_set_output.py\u001b[0m in \u001b[0;36mwrapped\u001b[0;34m(self, X, *args, **kwargs)\u001b[0m\n\u001b[1;32m    138\u001b[0m     \u001b[0;34m@\u001b[0m\u001b[0mwraps\u001b[0m\u001b[0;34m(\u001b[0m\u001b[0mf\u001b[0m\u001b[0;34m)\u001b[0m\u001b[0;34m\u001b[0m\u001b[0;34m\u001b[0m\u001b[0m\n\u001b[1;32m    139\u001b[0m     \u001b[0;32mdef\u001b[0m \u001b[0mwrapped\u001b[0m\u001b[0;34m(\u001b[0m\u001b[0mself\u001b[0m\u001b[0;34m,\u001b[0m \u001b[0mX\u001b[0m\u001b[0;34m,\u001b[0m \u001b[0;34m*\u001b[0m\u001b[0margs\u001b[0m\u001b[0;34m,\u001b[0m \u001b[0;34m**\u001b[0m\u001b[0mkwargs\u001b[0m\u001b[0;34m)\u001b[0m\u001b[0;34m:\u001b[0m\u001b[0;34m\u001b[0m\u001b[0;34m\u001b[0m\u001b[0m\n\u001b[0;32m--> 140\u001b[0;31m         \u001b[0mdata_to_wrap\u001b[0m \u001b[0;34m=\u001b[0m \u001b[0mf\u001b[0m\u001b[0;34m(\u001b[0m\u001b[0mself\u001b[0m\u001b[0;34m,\u001b[0m \u001b[0mX\u001b[0m\u001b[0;34m,\u001b[0m \u001b[0;34m*\u001b[0m\u001b[0margs\u001b[0m\u001b[0;34m,\u001b[0m \u001b[0;34m**\u001b[0m\u001b[0mkwargs\u001b[0m\u001b[0;34m)\u001b[0m\u001b[0;34m\u001b[0m\u001b[0;34m\u001b[0m\u001b[0m\n\u001b[0m\u001b[1;32m    141\u001b[0m         \u001b[0;32mif\u001b[0m \u001b[0misinstance\u001b[0m\u001b[0;34m(\u001b[0m\u001b[0mdata_to_wrap\u001b[0m\u001b[0;34m,\u001b[0m \u001b[0mtuple\u001b[0m\u001b[0;34m)\u001b[0m\u001b[0;34m:\u001b[0m\u001b[0;34m\u001b[0m\u001b[0;34m\u001b[0m\u001b[0m\n\u001b[1;32m    142\u001b[0m             \u001b[0;31m# only wrap the first output for cross decomposition\u001b[0m\u001b[0;34m\u001b[0m\u001b[0;34m\u001b[0m\u001b[0m\n",
            "\u001b[0;32m/usr/local/lib/python3.10/site-packages/sklearn/base.py\u001b[0m in \u001b[0;36mfit_transform\u001b[0;34m(self, X, y, **fit_params)\u001b[0m\n\u001b[1;32m    876\u001b[0m         \u001b[0;32mif\u001b[0m \u001b[0my\u001b[0m \u001b[0;32mis\u001b[0m \u001b[0;32mNone\u001b[0m\u001b[0;34m:\u001b[0m\u001b[0;34m\u001b[0m\u001b[0;34m\u001b[0m\u001b[0m\n\u001b[1;32m    877\u001b[0m             \u001b[0;31m# fit method of arity 1 (unsupervised transformation)\u001b[0m\u001b[0;34m\u001b[0m\u001b[0;34m\u001b[0m\u001b[0m\n\u001b[0;32m--> 878\u001b[0;31m             \u001b[0;32mreturn\u001b[0m \u001b[0mself\u001b[0m\u001b[0;34m.\u001b[0m\u001b[0mfit\u001b[0m\u001b[0;34m(\u001b[0m\u001b[0mX\u001b[0m\u001b[0;34m,\u001b[0m \u001b[0;34m**\u001b[0m\u001b[0mfit_params\u001b[0m\u001b[0;34m)\u001b[0m\u001b[0;34m.\u001b[0m\u001b[0mtransform\u001b[0m\u001b[0;34m(\u001b[0m\u001b[0mX\u001b[0m\u001b[0;34m)\u001b[0m\u001b[0;34m\u001b[0m\u001b[0;34m\u001b[0m\u001b[0m\n\u001b[0m\u001b[1;32m    879\u001b[0m         \u001b[0;32melse\u001b[0m\u001b[0;34m:\u001b[0m\u001b[0;34m\u001b[0m\u001b[0;34m\u001b[0m\u001b[0m\n\u001b[1;32m    880\u001b[0m             \u001b[0;31m# fit method of arity 2 (supervised transformation)\u001b[0m\u001b[0;34m\u001b[0m\u001b[0;34m\u001b[0m\u001b[0m\n",
            "\u001b[0;32m/usr/local/lib/python3.10/site-packages/sklearn/preprocessing/_data.py\u001b[0m in \u001b[0;36mfit\u001b[0;34m(self, X, y)\u001b[0m\n\u001b[1;32m    425\u001b[0m         \u001b[0;31m# Reset internal state before fitting\u001b[0m\u001b[0;34m\u001b[0m\u001b[0;34m\u001b[0m\u001b[0m\n\u001b[1;32m    426\u001b[0m         \u001b[0mself\u001b[0m\u001b[0;34m.\u001b[0m\u001b[0m_reset\u001b[0m\u001b[0;34m(\u001b[0m\u001b[0;34m)\u001b[0m\u001b[0;34m\u001b[0m\u001b[0;34m\u001b[0m\u001b[0m\n\u001b[0;32m--> 427\u001b[0;31m         \u001b[0;32mreturn\u001b[0m \u001b[0mself\u001b[0m\u001b[0;34m.\u001b[0m\u001b[0mpartial_fit\u001b[0m\u001b[0;34m(\u001b[0m\u001b[0mX\u001b[0m\u001b[0;34m,\u001b[0m \u001b[0my\u001b[0m\u001b[0;34m)\u001b[0m\u001b[0;34m\u001b[0m\u001b[0;34m\u001b[0m\u001b[0m\n\u001b[0m\u001b[1;32m    428\u001b[0m \u001b[0;34m\u001b[0m\u001b[0m\n\u001b[1;32m    429\u001b[0m     \u001b[0;32mdef\u001b[0m \u001b[0mpartial_fit\u001b[0m\u001b[0;34m(\u001b[0m\u001b[0mself\u001b[0m\u001b[0;34m,\u001b[0m \u001b[0mX\u001b[0m\u001b[0;34m,\u001b[0m \u001b[0my\u001b[0m\u001b[0;34m=\u001b[0m\u001b[0;32mNone\u001b[0m\u001b[0;34m)\u001b[0m\u001b[0;34m:\u001b[0m\u001b[0;34m\u001b[0m\u001b[0;34m\u001b[0m\u001b[0m\n",
            "\u001b[0;32m/usr/local/lib/python3.10/site-packages/sklearn/preprocessing/_data.py\u001b[0m in \u001b[0;36mpartial_fit\u001b[0;34m(self, X, y)\u001b[0m\n\u001b[1;32m    464\u001b[0m \u001b[0;34m\u001b[0m\u001b[0m\n\u001b[1;32m    465\u001b[0m         \u001b[0mfirst_pass\u001b[0m \u001b[0;34m=\u001b[0m \u001b[0;32mnot\u001b[0m \u001b[0mhasattr\u001b[0m\u001b[0;34m(\u001b[0m\u001b[0mself\u001b[0m\u001b[0;34m,\u001b[0m \u001b[0;34m\"n_samples_seen_\"\u001b[0m\u001b[0;34m)\u001b[0m\u001b[0;34m\u001b[0m\u001b[0;34m\u001b[0m\u001b[0m\n\u001b[0;32m--> 466\u001b[0;31m         X = self._validate_data(\n\u001b[0m\u001b[1;32m    467\u001b[0m             \u001b[0mX\u001b[0m\u001b[0;34m,\u001b[0m\u001b[0;34m\u001b[0m\u001b[0;34m\u001b[0m\u001b[0m\n\u001b[1;32m    468\u001b[0m             \u001b[0mreset\u001b[0m\u001b[0;34m=\u001b[0m\u001b[0mfirst_pass\u001b[0m\u001b[0;34m,\u001b[0m\u001b[0;34m\u001b[0m\u001b[0;34m\u001b[0m\u001b[0m\n",
            "\u001b[0;32m/usr/local/lib/python3.10/site-packages/sklearn/base.py\u001b[0m in \u001b[0;36m_validate_data\u001b[0;34m(self, X, y, reset, validate_separately, **check_params)\u001b[0m\n\u001b[1;32m    563\u001b[0m             \u001b[0;32mraise\u001b[0m \u001b[0mValueError\u001b[0m\u001b[0;34m(\u001b[0m\u001b[0;34m\"Validation should be done on X, y or both.\"\u001b[0m\u001b[0;34m)\u001b[0m\u001b[0;34m\u001b[0m\u001b[0;34m\u001b[0m\u001b[0m\n\u001b[1;32m    564\u001b[0m         \u001b[0;32melif\u001b[0m \u001b[0;32mnot\u001b[0m \u001b[0mno_val_X\u001b[0m \u001b[0;32mand\u001b[0m \u001b[0mno_val_y\u001b[0m\u001b[0;34m:\u001b[0m\u001b[0;34m\u001b[0m\u001b[0;34m\u001b[0m\u001b[0m\n\u001b[0;32m--> 565\u001b[0;31m             \u001b[0mX\u001b[0m \u001b[0;34m=\u001b[0m \u001b[0mcheck_array\u001b[0m\u001b[0;34m(\u001b[0m\u001b[0mX\u001b[0m\u001b[0;34m,\u001b[0m \u001b[0minput_name\u001b[0m\u001b[0;34m=\u001b[0m\u001b[0;34m\"X\"\u001b[0m\u001b[0;34m,\u001b[0m \u001b[0;34m**\u001b[0m\u001b[0mcheck_params\u001b[0m\u001b[0;34m)\u001b[0m\u001b[0;34m\u001b[0m\u001b[0;34m\u001b[0m\u001b[0m\n\u001b[0m\u001b[1;32m    566\u001b[0m             \u001b[0mout\u001b[0m \u001b[0;34m=\u001b[0m \u001b[0mX\u001b[0m\u001b[0;34m\u001b[0m\u001b[0;34m\u001b[0m\u001b[0m\n\u001b[1;32m    567\u001b[0m         \u001b[0;32melif\u001b[0m \u001b[0mno_val_X\u001b[0m \u001b[0;32mand\u001b[0m \u001b[0;32mnot\u001b[0m \u001b[0mno_val_y\u001b[0m\u001b[0;34m:\u001b[0m\u001b[0;34m\u001b[0m\u001b[0;34m\u001b[0m\u001b[0m\n",
            "\u001b[0;32m/usr/local/lib/python3.10/site-packages/sklearn/utils/validation.py\u001b[0m in \u001b[0;36mcheck_array\u001b[0;34m(array, accept_sparse, accept_large_sparse, dtype, order, copy, force_all_finite, ensure_2d, allow_nd, ensure_min_samples, ensure_min_features, estimator, input_name)\u001b[0m\n\u001b[1;32m    877\u001b[0m                     \u001b[0marray\u001b[0m \u001b[0;34m=\u001b[0m \u001b[0mxp\u001b[0m\u001b[0;34m.\u001b[0m\u001b[0mastype\u001b[0m\u001b[0;34m(\u001b[0m\u001b[0marray\u001b[0m\u001b[0;34m,\u001b[0m \u001b[0mdtype\u001b[0m\u001b[0;34m,\u001b[0m \u001b[0mcopy\u001b[0m\u001b[0;34m=\u001b[0m\u001b[0;32mFalse\u001b[0m\u001b[0;34m)\u001b[0m\u001b[0;34m\u001b[0m\u001b[0;34m\u001b[0m\u001b[0m\n\u001b[1;32m    878\u001b[0m                 \u001b[0;32melse\u001b[0m\u001b[0;34m:\u001b[0m\u001b[0;34m\u001b[0m\u001b[0;34m\u001b[0m\u001b[0m\n\u001b[0;32m--> 879\u001b[0;31m                     \u001b[0marray\u001b[0m \u001b[0;34m=\u001b[0m \u001b[0m_asarray_with_order\u001b[0m\u001b[0;34m(\u001b[0m\u001b[0marray\u001b[0m\u001b[0;34m,\u001b[0m \u001b[0morder\u001b[0m\u001b[0;34m=\u001b[0m\u001b[0morder\u001b[0m\u001b[0;34m,\u001b[0m \u001b[0mdtype\u001b[0m\u001b[0;34m=\u001b[0m\u001b[0mdtype\u001b[0m\u001b[0;34m,\u001b[0m \u001b[0mxp\u001b[0m\u001b[0;34m=\u001b[0m\u001b[0mxp\u001b[0m\u001b[0;34m)\u001b[0m\u001b[0;34m\u001b[0m\u001b[0;34m\u001b[0m\u001b[0m\n\u001b[0m\u001b[1;32m    880\u001b[0m             \u001b[0;32mexcept\u001b[0m \u001b[0mComplexWarning\u001b[0m \u001b[0;32mas\u001b[0m \u001b[0mcomplex_warning\u001b[0m\u001b[0;34m:\u001b[0m\u001b[0;34m\u001b[0m\u001b[0;34m\u001b[0m\u001b[0m\n\u001b[1;32m    881\u001b[0m                 raise ValueError(\n",
            "\u001b[0;32m/usr/local/lib/python3.10/site-packages/sklearn/utils/_array_api.py\u001b[0m in \u001b[0;36m_asarray_with_order\u001b[0;34m(array, dtype, order, copy, xp)\u001b[0m\n\u001b[1;32m    183\u001b[0m     \u001b[0;32mif\u001b[0m \u001b[0mxp\u001b[0m\u001b[0;34m.\u001b[0m\u001b[0m__name__\u001b[0m \u001b[0;32min\u001b[0m \u001b[0;34m{\u001b[0m\u001b[0;34m\"numpy\"\u001b[0m\u001b[0;34m,\u001b[0m \u001b[0;34m\"numpy.array_api\"\u001b[0m\u001b[0;34m}\u001b[0m\u001b[0;34m:\u001b[0m\u001b[0;34m\u001b[0m\u001b[0;34m\u001b[0m\u001b[0m\n\u001b[1;32m    184\u001b[0m         \u001b[0;31m# Use NumPy API to support order\u001b[0m\u001b[0;34m\u001b[0m\u001b[0;34m\u001b[0m\u001b[0m\n\u001b[0;32m--> 185\u001b[0;31m         \u001b[0marray\u001b[0m \u001b[0;34m=\u001b[0m \u001b[0mnumpy\u001b[0m\u001b[0;34m.\u001b[0m\u001b[0masarray\u001b[0m\u001b[0;34m(\u001b[0m\u001b[0marray\u001b[0m\u001b[0;34m,\u001b[0m \u001b[0morder\u001b[0m\u001b[0;34m=\u001b[0m\u001b[0morder\u001b[0m\u001b[0;34m,\u001b[0m \u001b[0mdtype\u001b[0m\u001b[0;34m=\u001b[0m\u001b[0mdtype\u001b[0m\u001b[0;34m)\u001b[0m\u001b[0;34m\u001b[0m\u001b[0;34m\u001b[0m\u001b[0m\n\u001b[0m\u001b[1;32m    186\u001b[0m         \u001b[0;32mreturn\u001b[0m \u001b[0mxp\u001b[0m\u001b[0;34m.\u001b[0m\u001b[0masarray\u001b[0m\u001b[0;34m(\u001b[0m\u001b[0marray\u001b[0m\u001b[0;34m,\u001b[0m \u001b[0mcopy\u001b[0m\u001b[0;34m=\u001b[0m\u001b[0mcopy\u001b[0m\u001b[0;34m)\u001b[0m\u001b[0;34m\u001b[0m\u001b[0;34m\u001b[0m\u001b[0m\n\u001b[1;32m    187\u001b[0m     \u001b[0;32melse\u001b[0m\u001b[0;34m:\u001b[0m\u001b[0;34m\u001b[0m\u001b[0;34m\u001b[0m\u001b[0m\n",
            "\u001b[0;31mValueError\u001b[0m: could not convert string to float: 'F'"
          ]
        }
      ],
      "source": [
        "from sklearn.preprocessing import MinMaxScaler\n",
        "\n",
        "scaler = MinMaxScaler()\n",
        "\n",
        "features_train_scaled = scaler.fit_transform(features_train.reshape(-1,1))\n",
        "target_test_scaled = scaler.fit_transform(target_test.reshape(-1,1))\n",
        "\n",
        "# Import the MinMaxScaler from scikit-learn to scale the features to a specified range (default is [0, 1])\n",
        "# Create an instance of the MinMaxScaler\n",
        "# Use the fit_transform method of the scaler to fit the scaling parameters on the training features and transform them\n",
        "# Use the transform method of the scaler to apply the same scaling parameters to the testing features"
      ]
    },
    {
      "cell_type": "code",
      "execution_count": null,
      "metadata": {
        "id": "wUguIh4rDOaH"
      },
      "outputs": [],
      "source": [
        "target_train.shape"
      ]
    },
    {
      "cell_type": "markdown",
      "metadata": {
        "id": "R27TYVHaDOaM",
        "nbgrader": {
          "grade": false,
          "locked": true,
          "solution": false
        }
      },
      "source": [
        "Deep Neural Network with 4 Layers\n",
        "\n",
        "- The network includes 4 layers with 2 hidden layers, each containing 80 neurons."
      ]
    },
    {
      "cell_type": "code",
      "execution_count": null,
      "metadata": {
        "id": "czEG834tDOaO"
      },
      "outputs": [],
      "source": [
        "from keras.models import Sequential\n",
        "from keras.layers import Dense, Dropout\n",
        "\n",
        "model = Sequential()\n",
        "\n",
        "model.add(Dense(80, activation='relu', input_dim=242))\n",
        "model.add(Dropout(0.2))\n",
        "model.add(Dense(80, activation='relu'))\n",
        "model.add(Dropout(0.2))\n",
        "model.add(Dense(1, activation='sigmoid'))\n",
        "\n",
        "\n",
        "# Import the Sequential class from the Keras library to create a sequential model\n",
        "# Create an instance of the Sequential model\n",
        "# Add a dense (fully connected) layer with 80 neurons, input dimension of 242, and ReLU activation function\n",
        "# Add a dropout layer with a dropout rate of 0.2 to reduce overfitting during training\n",
        "# Add another dense layer with 80 neurons and ReLU activation function\n",
        "# Add another dropout layer with a dropout rate of 0.2\n",
        "# Add a final dense layer with 1 neuron and a sigmoid activation function for binary classification"
      ]
    },
    {
      "cell_type": "markdown",
      "metadata": {
        "id": "HqzYQk8qDOaV",
        "nbgrader": {
          "grade": false,
          "locked": true,
          "solution": false
        }
      },
      "source": [
        "### Step 9: Compiling the Model\n",
        "- Compile the model with the Adam optimizer, binary cross-entropy loss function, and accuracy as the metric."
      ]
    },
    {
      "cell_type": "code",
      "execution_count": null,
      "metadata": {
        "id": "9pW8SJa3DOaX"
      },
      "outputs": [],
      "source": [
        "model.compile(optimizer='adam',\n",
        "              loss='binary_crossentropy',\n",
        "              metrics=['accuracy'])\n",
        "\n",
        "\n",
        "# Compile the model with specific configuration for training\n",
        "# The 'Adam' optimizer, 'binary_crossentropy' loss function, and 'accuracy' metric are commonly used for binary classification tasks\n",
        "\n",
        "# Set the optimizer to 'Adam', which is a popular optimization algorithm\n",
        "              # Set the loss function to 'binary_crossentropy'\n",
        "              # This is the appropriate loss function for binary classification problems\n",
        "              # Specify the metric(s) to be used for evaluation during training\n",
        "              # 'accuracy' is a common metric for classification problems"
      ]
    },
    {
      "cell_type": "markdown",
      "metadata": {
        "id": "0I6QqduRDOab",
        "nbgrader": {
          "grade": false,
          "locked": true,
          "solution": false
        }
      },
      "source": [
        "### Step 10: Fitting the Model\n",
        "- Fit the model to the training data, with a specified number of epochs (50), to train the model and optimize its parameters based on the provided input features and target values.\n",
        "\n"
      ]
    },
    {
      "cell_type": "code",
      "execution_count": null,
      "metadata": {
        "id": "Qg8EecV7DOag"
      },
      "outputs": [],
      "source": [
        "model.fit(target_train_scaled, features_train, epochs=5)\n",
        "\n",
        "\n",
        "# Train the neural network model using the training features and target variables\n",
        "# The model will be trained for 5 epochs\n",
        "\n",
        "# Use the fit method to train the model\n",
        "# Provide the scaled training features as input and the corresponding target values for supervised learning\n",
        "# The 'epochs' parameter specifies the number of times the entire training dataset will be passed forward and backward through the neural network"
      ]
    },
    {
      "cell_type": "markdown",
      "metadata": {
        "id": "eUsQsd3JDOam",
        "nbgrader": {
          "grade": false,
          "locked": true,
          "solution": false
        }
      },
      "source": [
        "### Step 11: Printing the Model Summary\n",
        "- Use the model.summary() function to display a summary of the model architecture, including the number of parameters and the shape of each layer.\n"
      ]
    },
    {
      "cell_type": "code",
      "execution_count": null,
      "metadata": {
        "id": "Fu6mUERYDOan",
        "scrolled": true
      },
      "outputs": [],
      "source": [
        "model.summary()"
      ]
    },
    {
      "cell_type": "markdown",
      "metadata": {
        "id": "y2saUs3-DOau",
        "nbgrader": {
          "grade": false,
          "locked": true,
          "solution": false
        }
      },
      "source": [
        "### Step 12: Evaluating the Metrics\n",
        "- Use the evaluate function to calculate the loss and accuracy of the trained model on the test data.\n",
        "The **test_loss** and **test_acc** variables store the values of the calculated loss and accuracy, respectively. Then, print the test accuracy value."
      ]
    },
    {
      "cell_type": "code",
      "execution_count": null,
      "metadata": {
        "id": "5vYtKAFKDOav"
      },
      "outputs": [],
      "source": [
        "test_loss, test_acc = model.evaluate(target_test_scaled, features_test)\n",
        "\n",
        "\n",
        "# Evaluate the trained model on the testing dataset and print the test accuracy\n",
        "\n",
        "# Use the evaluate method to assess the model's performance on the testing dataset\n",
        "# Provide the scaled testing features and their corresponding target values as input\n",
        "# The method returns the test loss and test accuracy\n",
        "\n",
        "# Print the test accuracy obtained from the evaluation\n",
        "print('Test accuracy:', test_acc)"
      ]
    },
    {
      "cell_type": "markdown",
      "metadata": {
        "id": "yzOfC5kohI1Z",
        "nbgrader": {
          "grade": false,
          "locked": true,
          "solution": false
        }
      },
      "source": [
        "- Use the **predictions = model.predict(features_test_scaled**) code to make predictions on the test data using the trained model.\n",
        "- Apply the trained model to the scaled features of the test data and obtain the predicted values for the target variable."
      ]
    },
    {
      "cell_type": "code",
      "execution_count": null,
      "metadata": {
        "colab": {
          "base_uri": "https://localhost:8080/"
        },
        "id": "BgEjL92nDOaz",
        "outputId": "91336820-1962-4f4b-e05e-3d3c8ce0f2b7"
      },
      "outputs": [
        {
          "ename": "NameError",
          "evalue": "name 'features_test_scaled' is not defined",
          "output_type": "error",
          "traceback": [
            "\u001b[0;31m---------------------------------------------------------------------------\u001b[0m",
            "\u001b[0;31mNameError\u001b[0m                                 Traceback (most recent call last)",
            "\u001b[0;32m/tmp/ipykernel_264/3752759607.py\u001b[0m in \u001b[0;36m<cell line: 1>\u001b[0;34m()\u001b[0m\n\u001b[0;32m----> 1\u001b[0;31m \u001b[0my_pred_prob\u001b[0m \u001b[0;34m=\u001b[0m \u001b[0mmodel\u001b[0m\u001b[0;34m.\u001b[0m\u001b[0mpredict\u001b[0m\u001b[0;34m(\u001b[0m\u001b[0mfeatures_test_scaled\u001b[0m\u001b[0;34m)\u001b[0m\u001b[0;34m\u001b[0m\u001b[0;34m\u001b[0m\u001b[0m\n\u001b[0m\u001b[1;32m      2\u001b[0m \u001b[0;34m\u001b[0m\u001b[0m\n\u001b[1;32m      3\u001b[0m \u001b[0;34m\u001b[0m\u001b[0m\n\u001b[1;32m      4\u001b[0m \u001b[0;31m# Obtain predictions from the trained model on the scaled testing features\u001b[0m\u001b[0;34m\u001b[0m\u001b[0;34m\u001b[0m\u001b[0m\n\u001b[1;32m      5\u001b[0m \u001b[0;34m\u001b[0m\u001b[0m\n",
            "\u001b[0;31mNameError\u001b[0m: name 'features_test_scaled' is not defined"
          ]
        }
      ],
      "source": [
        "y_pred_prob = model.predict(features_test_scaled)\n",
        "\n",
        "\n",
        "# Obtain predictions from the trained model on the scaled testing features\n",
        "\n",
        "# Use the predict method to generate predictions from the trained model\n",
        "# Provide the scaled testing features as input, and the method returns the predicted probabilities for each instance"
      ]
    },
    {
      "cell_type": "markdown",
      "metadata": {
        "id": "G-egO5_hiL8Z",
        "nbgrader": {
          "grade": false,
          "locked": true,
          "solution": false
        }
      },
      "source": [
        "- Use the **accuracy_score** function from the **sklearn.metrics** module to calculate the accuracy of the predicted values compared to the actual target values."
      ]
    },
    {
      "cell_type": "code",
      "execution_count": null,
      "metadata": {
        "colab": {
          "base_uri": "https://localhost:8080/"
        },
        "id": "SrkWerVoDOa4",
        "outputId": "f70f1e13-769b-48bf-ad4b-b1fc0cf2e0e0"
      },
      "outputs": [
        {
          "ename": "NameError",
          "evalue": "name 'y_pred_prob' is not defined",
          "output_type": "error",
          "traceback": [
            "\u001b[0;31m---------------------------------------------------------------------------\u001b[0m",
            "\u001b[0;31mNameError\u001b[0m                                 Traceback (most recent call last)",
            "\u001b[0;32m/tmp/ipykernel_132/2825569892.py\u001b[0m in \u001b[0;36m<cell line: 4>\u001b[0;34m()\u001b[0m\n\u001b[1;32m      2\u001b[0m \u001b[0;32mfrom\u001b[0m \u001b[0msklearn\u001b[0m\u001b[0;34m.\u001b[0m\u001b[0mmetrics\u001b[0m \u001b[0;32mimport\u001b[0m \u001b[0maccuracy_score\u001b[0m\u001b[0;34m\u001b[0m\u001b[0;34m\u001b[0m\u001b[0m\n\u001b[1;32m      3\u001b[0m \u001b[0;34m\u001b[0m\u001b[0m\n\u001b[0;32m----> 4\u001b[0;31m \u001b[0my_pred\u001b[0m \u001b[0;34m=\u001b[0m \u001b[0;34m(\u001b[0m\u001b[0my_pred_prob\u001b[0m \u001b[0;34m>=\u001b[0m\u001b[0;36m0.5\u001b[0m\u001b[0;34m)\u001b[0m\u001b[0;34m.\u001b[0m\u001b[0mastype\u001b[0m\u001b[0;34m(\u001b[0m\u001b[0mint\u001b[0m\u001b[0;34m)\u001b[0m\u001b[0;34m\u001b[0m\u001b[0;34m\u001b[0m\u001b[0m\n\u001b[0m\u001b[1;32m      5\u001b[0m \u001b[0maccuracy\u001b[0m \u001b[0;34m=\u001b[0m \u001b[0maccuracy_score\u001b[0m\u001b[0;34m(\u001b[0m\u001b[0mfeatures_test\u001b[0m\u001b[0;34m,\u001b[0m \u001b[0my_pred\u001b[0m\u001b[0;34m)\u001b[0m\u001b[0;34m\u001b[0m\u001b[0;34m\u001b[0m\u001b[0m\n\u001b[1;32m      6\u001b[0m \u001b[0mprint\u001b[0m\u001b[0;34m(\u001b[0m\u001b[0;34m\"Accuracy:\"\u001b[0m\u001b[0;34m,\u001b[0m \u001b[0maccuracy\u001b[0m\u001b[0;34m)\u001b[0m\u001b[0;34m\u001b[0m\u001b[0;34m\u001b[0m\u001b[0m\n",
            "\u001b[0;31mNameError\u001b[0m: name 'y_pred_prob' is not defined"
          ]
        }
      ],
      "source": [
        "# Import the accuracy_score function from scikit-learn to calculate classification accuracy\n",
        "from sklearn.metrics import accuracy_score\n",
        "\n",
        "y_pred = (y_pred_prob >=0.5).astype(int)\n",
        "accuracy = accuracy_score(features_test, y_pred)\n",
        "print(\"Accuracy:\", accuracy)\n",
        "\n",
        "# Calculate the classification accuracy by comparing the true target values (target_test) with the rounded predictions\n",
        "# The predictions are rounded to convert probabilities to binary predictions (0 or 1)\n",
        "# This is suitable for binary classification tasks"
      ]
    },
    {
      "cell_type": "code",
      "execution_count": null,
      "metadata": {
        "colab": {
          "base_uri": "https://localhost:8080/"
        },
        "id": "lGZGyKFoDObA",
        "outputId": "cdddc7e8-1cd9-4b4e-9f13-83e0cc1635ea",
        "scrolled": true
      },
      "outputs": [
        {
          "ename": "NameError",
          "evalue": "name 'cnf_matrix' is not defined",
          "output_type": "error",
          "traceback": [
            "\u001b[0;31m---------------------------------------------------------------------------\u001b[0m",
            "\u001b[0;31mNameError\u001b[0m                                 Traceback (most recent call last)",
            "\u001b[0;32m/tmp/ipykernel_264/2281285138.py\u001b[0m in \u001b[0;36m<cell line: 11>\u001b[0;34m()\u001b[0m\n\u001b[1;32m      9\u001b[0m \u001b[0;34m\u001b[0m\u001b[0m\n\u001b[1;32m     10\u001b[0m \u001b[0;31m# Print the computed confusion matrix\u001b[0m\u001b[0;34m\u001b[0m\u001b[0;34m\u001b[0m\u001b[0m\n\u001b[0;32m---> 11\u001b[0;31m \u001b[0mcnf_matrix\u001b[0m\u001b[0;34m\u001b[0m\u001b[0;34m\u001b[0m\u001b[0m\n\u001b[0m",
            "\u001b[0;31mNameError\u001b[0m: name 'cnf_matrix' is not defined"
          ]
        }
      ],
      "source": [
        "# Import the confusion_matrix function from scikit-learn to compute the confusion matrix\n",
        "from sklearn.metrics import confusion_matrix\n",
        "\n",
        "cm = confusion_matrix(features_test, y_pred)\n",
        "print(cm)\n",
        "\n",
        "# Compute the confusion matrix by comparing the true target values (target_test) with the rounded predictions\n",
        "# The predictions are rounded to convert probabilities to binary predictions (0 or 1)\n",
        "# The confusion matrix provides information on true positive, true negative, false positive, and false negative counts\n",
        "\n",
        "\n",
        "# Print the computed confusion matrix\n",
        "cnf_matrix"
      ]
    },
    {
      "cell_type": "code",
      "execution_count": null,
      "metadata": {
        "id": "HD-2IU-RDObE"
      },
      "outputs": [],
      "source": [
        "#TODO\n",
        "# Extract the elements of the confusion matrix to obtain true negative (TN), false positive (FP), false negative (FN), and true positive (TP) counts\n",
        "\n",
        "# Use the confusion_matrix function to compute the confusion matrix by comparing the true target values (target_test)\n",
        "# with the rounded predictions. The predictions are rounded to convert probabilities to binary predictions (0 or 1).\n",
        "\n",
        "# Use the ravel() method to flatten the confusion matrix into a 1D array\n",
        "# The resulting array has the order [TN, FP, FN, TP], where TN: true negative, FP: false positive, FN: false negative, TP: true positive\n",
        "\n",
        "# Print or view the extracted counts of true negative, false positive, false negative, and true positive"
      ]
    },
    {
      "cell_type": "markdown",
      "metadata": {
        "id": "f_UpWYBZkYTq",
        "nbgrader": {
          "grade": false,
          "locked": true,
          "solution": false
        }
      },
      "source": [
        "Visualizing the Confusion Matrix\n",
        "\n",
        "- Generate a heatmap representation of the confusion matrix, which is a visual way to analyze the performance of a classification model.\n",
        "- Create the heatmap using the **sns.heatmap()** function from the seaborn library, with additional customization for labels, title, and tick marks to enhance the readability of the plot."
      ]
    },
    {
      "cell_type": "code",
      "execution_count": null,
      "metadata": {
        "id": "dGg7bqBxDObI"
      },
      "outputs": [],
      "source": [
        "# Import seaborn for data visualization and matplotlib.pyplot for creating plots\n",
        "import seaborn as sns\n",
        "import matplotlib.pyplot as plt\n",
        "\n",
        "#TODO\n",
        "# Create a subplot and visualize the confusion matrix using a heatmap with seaborn\n",
        "# The heatmap will have annotations, and the color map is set to 'Blues'\n",
        "# The 'fmt='g'' specifies the format for the annotations as general numeric format\n",
        "\n",
        "\n",
        "# Set the labels, title, and ticks for better interpretation\n",
        "\n",
        "\n",
        "# Set x-axis and y-axis tick labels to represent the classes ('0' and '1')\n"
      ]
    },
    {
      "cell_type": "markdown",
      "metadata": {
        "id": "-wO6x8nUDObN",
        "nbgrader": {
          "grade": false,
          "locked": true,
          "solution": false
        }
      },
      "source": [
        "### Sensitivity, Recall, Hit rate, or True Positive Rate (TPR)"
      ]
    },
    {
      "cell_type": "code",
      "execution_count": null,
      "metadata": {
        "id": "m0EF_bEeDObP"
      },
      "outputs": [],
      "source": [
        "#TODO\n",
        "# Calculate Sensitivity (True Positive Rate or Recall) using the formula Sensitivity = TP / (TP + FN)\n",
        "#TODO\n",
        "# Calculate Sensitivity by dividing the count of true positives (TP) by the sum of true positives and false negatives (FN)\n",
        "\n",
        "\n",
        "# Print or view the calculated Sensitivity\n",
        "Sensitivity"
      ]
    },
    {
      "cell_type": "markdown",
      "metadata": {
        "id": "532DT7n4DObU",
        "nbgrader": {
          "grade": false,
          "locked": true,
          "solution": false
        }
      },
      "source": [
        "### Area Under the Receiver Operating Characteristic Curve (ROC AUC)\n",
        "\n",
        "\n"
      ]
    },
    {
      "cell_type": "code",
      "execution_count": null,
      "metadata": {
        "id": "jBKk_uDkDObV"
      },
      "outputs": [],
      "source": [
        "# Import the roc_auc_score function from scikit-learn to calculate the area under the Receiver Operating Characteristic (ROC) curve\n",
        "from sklearn.metrics import roc_auc_score\n",
        "\n",
        "#TODO\n",
        "# Calculate the area under the ROC curve (AUC) by comparing the true target values (target_test) with the predicted probabilities\n",
        "# The roc_auc_score function takes the true labels and predicted probabilities as input"
      ]
    }
  ],
  "metadata": {
    "colab": {
      "provenance": []
    },
    "kernelspec": {
      "display_name": "Python 3 [3.10]",
      "language": "python",
      "name": "python3"
    },
    "language_info": {
      "codemirror_mode": {
        "name": "ipython",
        "version": 3
      },
      "file_extension": ".py",
      "mimetype": "text/x-python",
      "name": "python",
      "nbconvert_exporter": "python",
      "pygments_lexer": "ipython3",
      "version": "3.10.2"
    }
  },
  "nbformat": 4,
  "nbformat_minor": 0
}